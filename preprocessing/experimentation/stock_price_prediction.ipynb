{
 "cells": [
  {
   "cell_type": "markdown",
   "id": "54d48d09",
   "metadata": {},
   "source": [
    "from 'Predicting Stock Prices in Python' tutorial video [https://youtu.be/PuZY9q-aKLw]"
   ]
  },
  {
   "cell_type": "markdown",
   "id": "f75ae0d8",
   "metadata": {},
   "source": [
    "## import dependencies"
   ]
  },
  {
   "cell_type": "code",
   "execution_count": 1,
   "id": "6c5b302a",
   "metadata": {},
   "outputs": [],
   "source": [
    "import numpy as np\n",
    "import matplotlib.pyplot as plt\n",
    "import pandas as pd\n",
    "import pandas_datareader as web\n",
    "import datetime as dt\n",
    "\n",
    "from sklearn.preprocessing import MinMaxScaler\n",
    "from tensorflow.keras.models import Sequential\n",
    "from tensorflow.keras.layers import Dense, Dropout, LSTM"
   ]
  },
  {
   "cell_type": "markdown",
   "id": "e0d1e75f",
   "metadata": {},
   "source": [
    "## load data"
   ]
  },
  {
   "cell_type": "code",
   "execution_count": 2,
   "id": "7d7a17f5",
   "metadata": {},
   "outputs": [],
   "source": [
    "company = 'COF'\n",
    "\n",
    "start = dt.datetime(2000, 1,1)\n",
    "end = dt.datetime(2021,1,1)\n",
    "\n",
    "data = web.DataReader(company, 'yahoo', start, end)"
   ]
  },
  {
   "cell_type": "markdown",
   "id": "7ef9951f",
   "metadata": {},
   "source": [
    "## Prepare Data"
   ]
  },
  {
   "cell_type": "code",
   "execution_count": 3,
   "id": "fedd5f6b",
   "metadata": {},
   "outputs": [],
   "source": [
    "scaler = MinMaxScaler(feature_range=(0,1))\n",
    "scaled_data = scaler.fit_transform(data['Close'].values.reshape(-1,1))\n",
    "\n",
    "prediction_days = 45\n",
    "\n",
    "x_train = []\n",
    "y_train = []\n",
    "\n",
    "for x in range(prediction_days, len(scaled_data)):\n",
    "    x_train.append(scaled_data[x-prediction_days:x, 0])\n",
    "    y_train.append(scaled_data[x, 0])\n",
    "    \n",
    "x_train, y_train = np.array(x_train), np.array(y_train)\n",
    "x_train = np.reshape(x_train, (x_train.shape[0], x_train.shape[1], 1))"
   ]
  },
  {
   "cell_type": "markdown",
   "id": "b66a8bc1",
   "metadata": {},
   "source": [
    "## Build the model"
   ]
  },
  {
   "cell_type": "code",
   "execution_count": 4,
   "id": "009879fb",
   "metadata": {
    "scrolled": true
   },
   "outputs": [
    {
     "name": "stdout",
     "output_type": "stream",
     "text": [
      "Train on 5239 samples\n",
      "Epoch 1/25\n",
      "5239/5239 [==============================] - 33s 6ms/sample - loss: 0.0153\n",
      "Epoch 2/25\n",
      "5239/5239 [==============================] - 19s 4ms/sample - loss: 0.0046\n",
      "Epoch 3/25\n",
      "5239/5239 [==============================] - 19s 4ms/sample - loss: 0.0039\n",
      "Epoch 4/25\n",
      "5239/5239 [==============================] - 18s 3ms/sample - loss: 0.0039\n",
      "Epoch 5/25\n",
      "5239/5239 [==============================] - 18s 4ms/sample - loss: 0.0035\n",
      "Epoch 6/25\n",
      "5239/5239 [==============================] - 18s 3ms/sample - loss: 0.0032\n",
      "Epoch 7/25\n",
      "5239/5239 [==============================] - 17s 3ms/sample - loss: 0.0029\n",
      "Epoch 8/25\n",
      "5239/5239 [==============================] - 17s 3ms/sample - loss: 0.0026\n",
      "Epoch 9/25\n",
      "5239/5239 [==============================] - 17s 3ms/sample - loss: 0.0025\n",
      "Epoch 10/25\n",
      "5239/5239 [==============================] - 18s 3ms/sample - loss: 0.0023\n",
      "Epoch 11/25\n",
      "5239/5239 [==============================] - 30s 6ms/sample - loss: 0.0022\n",
      "Epoch 12/25\n",
      "5239/5239 [==============================] - 34s 7ms/sample - loss: 0.0021\n",
      "Epoch 13/25\n",
      "5239/5239 [==============================] - 29s 5ms/sample - loss: 0.0020\n",
      "Epoch 14/25\n",
      "5239/5239 [==============================] - 35s 7ms/sample - loss: 0.0019\n",
      "Epoch 15/25\n",
      "5239/5239 [==============================] - 31s 6ms/sample - loss: 0.0018\n",
      "Epoch 16/25\n",
      "5239/5239 [==============================] - 29s 6ms/sample - loss: 0.0016\n",
      "Epoch 17/25\n",
      "5239/5239 [==============================] - 33s 6ms/sample - loss: 0.0016\n",
      "Epoch 18/25\n",
      "5239/5239 [==============================] - 29s 5ms/sample - loss: 0.0015\n",
      "Epoch 19/25\n",
      "5239/5239 [==============================] - 30s 6ms/sample - loss: 0.0015\n",
      "Epoch 20/25\n",
      "5239/5239 [==============================] - 28s 5ms/sample - loss: 0.0013\n",
      "Epoch 21/25\n",
      "5239/5239 [==============================] - 28s 5ms/sample - loss: 0.0013\n",
      "Epoch 22/25\n",
      "5239/5239 [==============================] - 30s 6ms/sample - loss: 0.0012\n",
      "Epoch 23/25\n",
      "5239/5239 [==============================] - 27s 5ms/sample - loss: 0.0011\n",
      "Epoch 24/25\n",
      "5239/5239 [==============================] - 30s 6ms/sample - loss: 0.0011\n",
      "Epoch 25/25\n",
      "5239/5239 [==============================] - 29s 5ms/sample - loss: 0.0011\n"
     ]
    },
    {
     "data": {
      "text/plain": [
       "<tensorflow.python.keras.callbacks.History at 0x7fe5fa604d10>"
      ]
     },
     "execution_count": 4,
     "metadata": {},
     "output_type": "execute_result"
    }
   ],
   "source": [
    "model = Sequential()\n",
    "\n",
    "model.add(LSTM(units=50, return_sequences=True, input_shape=(x_train.shape[1], 1)))\n",
    "model.add(Dropout(0.2))\n",
    "model.add(LSTM(units=50, return_sequences=True))\n",
    "model.add(Dropout(0.2))\n",
    "model.add(LSTM(units=50))\n",
    "model.add(Dropout(0.2))\n",
    "model.add(Dense(units=1)) # Prediction of the next closing value\n",
    "\n",
    "model.compile(optimizer='adam', loss='mean_squared_error')\n",
    "model.fit(x_train, y_train, epochs=25, batch_size=32)"
   ]
  },
  {
   "cell_type": "markdown",
   "id": "826b015f",
   "metadata": {},
   "source": [
    "## Load Test Data"
   ]
  },
  {
   "cell_type": "code",
   "execution_count": 5,
   "id": "eb7ba6dc",
   "metadata": {},
   "outputs": [],
   "source": [
    "'''Test The Model Accuracy on Existing Data'''\n",
    "\n",
    "test_start = dt.datetime(2020, 6, 1)\n",
    "test_end = dt.datetime.now()\n",
    "\n",
    "test_data = web.DataReader(company, 'yahoo', test_start, test_end)\n",
    "actual_prices = test_data['Close'].values\n",
    "\n",
    "total_dataset = pd.concat((data['Close'], test_data['Close']), axis=0)\n",
    "\n",
    "model_inputs = total_dataset[len(total_dataset) - len(test_data) - prediction_days:].values\n",
    "model_inputs = model_inputs.reshape(-1, 1)\n",
    "model_inputs = scaler.transform(model_inputs)"
   ]
  },
  {
   "cell_type": "markdown",
   "id": "6c42dbcc",
   "metadata": {},
   "source": [
    "## Make Predictions on Test Data"
   ]
  },
  {
   "cell_type": "code",
   "execution_count": 6,
   "id": "b65678fd",
   "metadata": {},
   "outputs": [],
   "source": [
    "x_test = []\n",
    "\n",
    "for x in range(prediction_days, len(model_inputs)):\n",
    "    x_test.append(model_inputs[x-prediction_days:x, 0])\n",
    "    \n",
    "x_test = np.array(x_test)\n",
    "x_test = np.reshape(x_test, (x_test.shape[0], x_test.shape[1], 1))\n",
    "\n",
    "predicted_prices = model.predict(x_test)\n",
    "predicted_prices = scaler.inverse_transform(predicted_prices)"
   ]
  },
  {
   "cell_type": "markdown",
   "id": "cabbcab5",
   "metadata": {},
   "source": [
    "## Plot the test predictions"
   ]
  },
  {
   "cell_type": "code",
   "execution_count": 7,
   "id": "bf0fc844",
   "metadata": {},
   "outputs": [
    {
     "data": {
      "image/png": "[encoded data removed]",
      "text/plain": [
       "<Figure size 864x576 with 1 Axes>"
      ]
     },
     "metadata": {
      "needs_background": "light"
     },
     "output_type": "display_data"
    }
   ],
   "source": [
    "plt.figure(figsize=(12,8))\n",
    "plt.plot(actual_prices, color=\"black\", label=f\"Actual {company} price\")\n",
    "plt.plot(predicted_prices, color=\"green\", label=f\"Predicted {company} price\")\n",
    "plt.title(f\"{company} Share Price\")\n",
    "plt.xlabel('Time')\n",
    "plt.ylabel(f'{company} Share Price')\n",
    "plt.legend()\n",
    "plt.show()"
   ]
  },
  {
   "cell_type": "markdown",
   "id": "1e5bd4da",
   "metadata": {},
   "source": [
    "## Predict Next Day"
   ]
  },
  {
   "cell_type": "code",
   "execution_count": 8,
   "id": "f75b950f",
   "metadata": {},
   "outputs": [
    {
     "name": "stdout",
     "output_type": "stream",
     "text": [
      "Prediction: [[152.95804]]\n"
     ]
    }
   ],
   "source": [
    "real_data = [model_inputs[len(model_inputs) - prediction_days:len(model_inputs)+1, 0]]\n",
    "real_data = np.array(real_data)\n",
    "real_data = np.reshape(real_data, (real_data.shape[0], real_data.shape[1], 1))\n",
    "\n",
    "#print(scaler.inverse_transform(real_data[-1]))\n",
    "\n",
    "prediction = model.predict(real_data)\n",
    "prediction = scaler.inverse_transform(prediction)\n",
    "print(f\"Prediction: {prediction}\")"
   ]
  },
  {
   "cell_type": "code",
   "execution_count": null,
   "id": "911dbe46",
   "metadata": {},
   "outputs": [],
   "source": []
  }
 ],
 "metadata": {
  "kernelspec": {
   "display_name": "Python 3",
   "language": "python",
   "name": "python3"
  },
  "language_info": {
   "codemirror_mode": {
    "name": "ipython",
    "version": 3
   },
   "file_extension": ".py",
   "mimetype": "text/x-python",
   "name": "python",
   "nbconvert_exporter": "python",
   "pygments_lexer": "ipython3",
   "version": "3.7.10"
  }
 },
 "nbformat": 4,
 "nbformat_minor": 5
}
