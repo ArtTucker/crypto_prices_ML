{
 "cells": [
  {
   "cell_type": "markdown",
   "id": "a25d6fca",
   "metadata": {},
   "source": [
    "code copied from 'Predicting Crypto Prices in Python' [https://youtu.be/GFSiL6zEZF0]"
   ]
  },
  {
   "cell_type": "markdown",
   "id": "ba2323e4",
   "metadata": {},
   "source": [
    "## import dependencies"
   ]
  },
  {
   "cell_type": "code",
   "execution_count": 1,
   "id": "359ea269",
   "metadata": {},
   "outputs": [],
   "source": [
    "import numpy as np\n",
    "import matplotlib.pyplot as plt\n",
    "import pandas as pd\n",
    "import pandas_datareader as web\n",
    "import datetime as dt\n",
    "\n",
    "from sklearn.preprocessing import MinMaxScaler\n",
    "from tensorflow.keras.models import Sequential\n",
    "from tensorflow.keras.layers import Dense, Dropout, LSTM"
   ]
  },
  {
   "cell_type": "markdown",
   "id": "f18ece8c",
   "metadata": {},
   "source": [
    "## load data"
   ]
  },
  {
   "cell_type": "code",
   "execution_count": 2,
   "id": "cca8e3a0",
   "metadata": {},
   "outputs": [],
   "source": [
    "crypto_currency = 'LTC'\n",
    "against_currency = 'USD'\n",
    "\n",
    "start = dt.datetime(2018,6, 1)\n",
    "end = dt.datetime.now()\n",
    "\n",
    "data = web.DataReader(f'{crypto_currency}-{against_currency}', 'yahoo', start, end)"
   ]
  },
  {
   "cell_type": "code",
   "execution_count": 3,
   "id": "1ad23c99",
   "metadata": {
    "scrolled": true
   },
   "outputs": [
    {
     "data": {
      "text/html": [
       "<div>\n",
       "<style scoped>\n",
       "    .dataframe tbody tr th:only-of-type {\n",
       "        vertical-align: middle;\n",
       "    }\n",
       "\n",
       "    .dataframe tbody tr th {\n",
       "        vertical-align: top;\n",
       "    }\n",
       "\n",
       "    .dataframe thead th {\n",
       "        text-align: right;\n",
       "    }\n",
       "</style>\n",
       "<table border=\"1\" class=\"dataframe\">\n",
       "  <thead>\n",
       "    <tr style=\"text-align: right;\">\n",
       "      <th></th>\n",
       "      <th>High</th>\n",
       "      <th>Low</th>\n",
       "      <th>Open</th>\n",
       "      <th>Close</th>\n",
       "      <th>Volume</th>\n",
       "      <th>Adj Close</th>\n",
       "    </tr>\n",
       "    <tr>\n",
       "      <th>Date</th>\n",
       "      <th></th>\n",
       "      <th></th>\n",
       "      <th></th>\n",
       "      <th></th>\n",
       "      <th></th>\n",
       "      <th></th>\n",
       "    </tr>\n",
       "  </thead>\n",
       "  <tbody>\n",
       "    <tr>\n",
       "      <th>2018-05-31</th>\n",
       "      <td>120.195999</td>\n",
       "      <td>117.115997</td>\n",
       "      <td>118.028000</td>\n",
       "      <td>119.915001</td>\n",
       "      <td>2.908860e+08</td>\n",
       "      <td>119.915001</td>\n",
       "    </tr>\n",
       "    <tr>\n",
       "      <th>2018-06-01</th>\n",
       "      <td>123.893997</td>\n",
       "      <td>118.955002</td>\n",
       "      <td>119.828003</td>\n",
       "      <td>123.306999</td>\n",
       "      <td>3.108000e+08</td>\n",
       "      <td>123.306999</td>\n",
       "    </tr>\n",
       "    <tr>\n",
       "      <th>2018-06-02</th>\n",
       "      <td>127.367996</td>\n",
       "      <td>122.365997</td>\n",
       "      <td>123.285004</td>\n",
       "      <td>125.500000</td>\n",
       "      <td>3.227870e+08</td>\n",
       "      <td>125.500000</td>\n",
       "    </tr>\n",
       "    <tr>\n",
       "      <th>2018-06-03</th>\n",
       "      <td>126.325996</td>\n",
       "      <td>118.727997</td>\n",
       "      <td>125.210999</td>\n",
       "      <td>119.903000</td>\n",
       "      <td>2.997810e+08</td>\n",
       "      <td>119.903000</td>\n",
       "    </tr>\n",
       "    <tr>\n",
       "      <th>2018-06-04</th>\n",
       "      <td>122.005997</td>\n",
       "      <td>116.442001</td>\n",
       "      <td>119.896004</td>\n",
       "      <td>121.700996</td>\n",
       "      <td>3.008920e+08</td>\n",
       "      <td>121.700996</td>\n",
       "    </tr>\n",
       "    <tr>\n",
       "      <th>...</th>\n",
       "      <td>...</td>\n",
       "      <td>...</td>\n",
       "      <td>...</td>\n",
       "      <td>...</td>\n",
       "      <td>...</td>\n",
       "      <td>...</td>\n",
       "    </tr>\n",
       "    <tr>\n",
       "      <th>2021-06-12</th>\n",
       "      <td>171.519714</td>\n",
       "      <td>156.964615</td>\n",
       "      <td>161.982590</td>\n",
       "      <td>170.930878</td>\n",
       "      <td>2.041213e+09</td>\n",
       "      <td>170.930878</td>\n",
       "    </tr>\n",
       "    <tr>\n",
       "      <th>2021-06-13</th>\n",
       "      <td>180.000916</td>\n",
       "      <td>166.695389</td>\n",
       "      <td>170.854401</td>\n",
       "      <td>172.949097</td>\n",
       "      <td>1.960141e+09</td>\n",
       "      <td>172.949097</td>\n",
       "    </tr>\n",
       "    <tr>\n",
       "      <th>2021-06-14</th>\n",
       "      <td>181.048035</td>\n",
       "      <td>172.440735</td>\n",
       "      <td>178.633728</td>\n",
       "      <td>178.659424</td>\n",
       "      <td>2.459814e+09</td>\n",
       "      <td>178.659424</td>\n",
       "    </tr>\n",
       "    <tr>\n",
       "      <th>2021-06-15</th>\n",
       "      <td>177.201004</td>\n",
       "      <td>164.995682</td>\n",
       "      <td>175.329391</td>\n",
       "      <td>166.458939</td>\n",
       "      <td>2.211209e+09</td>\n",
       "      <td>166.458939</td>\n",
       "    </tr>\n",
       "    <tr>\n",
       "      <th>2021-06-18</th>\n",
       "      <td>166.989853</td>\n",
       "      <td>166.085358</td>\n",
       "      <td>166.730820</td>\n",
       "      <td>166.106735</td>\n",
       "      <td>1.980101e+09</td>\n",
       "      <td>166.106735</td>\n",
       "    </tr>\n",
       "  </tbody>\n",
       "</table>\n",
       "<p>1109 rows × 6 columns</p>\n",
       "</div>"
      ],
      "text/plain": [
       "                  High         Low        Open       Close        Volume  \\\n",
       "Date                                                                       \n",
       "2018-05-31  120.195999  117.115997  118.028000  119.915001  2.908860e+08   \n",
       "2018-06-01  123.893997  118.955002  119.828003  123.306999  3.108000e+08   \n",
       "2018-06-02  127.367996  122.365997  123.285004  125.500000  3.227870e+08   \n",
       "2018-06-03  126.325996  118.727997  125.210999  119.903000  2.997810e+08   \n",
       "2018-06-04  122.005997  116.442001  119.896004  121.700996  3.008920e+08   \n",
       "...                ...         ...         ...         ...           ...   \n",
       "2021-06-12  171.519714  156.964615  161.982590  170.930878  2.041213e+09   \n",
       "2021-06-13  180.000916  166.695389  170.854401  172.949097  1.960141e+09   \n",
       "2021-06-14  181.048035  172.440735  178.633728  178.659424  2.459814e+09   \n",
       "2021-06-15  177.201004  164.995682  175.329391  166.458939  2.211209e+09   \n",
       "2021-06-18  166.989853  166.085358  166.730820  166.106735  1.980101e+09   \n",
       "\n",
       "             Adj Close  \n",
       "Date                    \n",
       "2018-05-31  119.915001  \n",
       "2018-06-01  123.306999  \n",
       "2018-06-02  125.500000  \n",
       "2018-06-03  119.903000  \n",
       "2018-06-04  121.700996  \n",
       "...                ...  \n",
       "2021-06-12  170.930878  \n",
       "2021-06-13  172.949097  \n",
       "2021-06-14  178.659424  \n",
       "2021-06-15  166.458939  \n",
       "2021-06-18  166.106735  \n",
       "\n",
       "[1109 rows x 6 columns]"
      ]
     },
     "execution_count": 3,
     "metadata": {},
     "output_type": "execute_result"
    }
   ],
   "source": [
    "data"
   ]
  },
  {
   "cell_type": "markdown",
   "id": "459971c9",
   "metadata": {},
   "source": [
    "## Prepare Data"
   ]
  },
  {
   "cell_type": "code",
   "execution_count": 4,
   "id": "4af15b7c",
   "metadata": {},
   "outputs": [],
   "source": [
    "scaler = MinMaxScaler(feature_range=(0,1))\n",
    "scaled_data = scaler.fit_transform(data['Close'].values.reshape(-1,1))\n",
    "\n",
    "prediction_days = 45\n",
    "\n",
    "x_train, y_train = [], []\n",
    "\n",
    "for x in range(prediction_days, len(scaled_data)):\n",
    "    x_train.append(scaled_data[x-prediction_days:x, 0])\n",
    "    y_train.append(scaled_data[x, 0])\n",
    "    \n",
    "x_train, y_train = np.array(x_train), np.array(y_train)\n",
    "x_train = np.reshape(x_train, (x_train.shape[0], x_train.shape[1], 1))"
   ]
  },
  {
   "cell_type": "markdown",
   "id": "d551d22c",
   "metadata": {},
   "source": [
    "## Create Neural Network"
   ]
  },
  {
   "cell_type": "code",
   "execution_count": 5,
   "id": "cb3260df",
   "metadata": {
    "scrolled": true
   },
   "outputs": [
    {
     "name": "stdout",
     "output_type": "stream",
     "text": [
      "Train on 1064 samples\n",
      "Epoch 1/25\n",
      "1064/1064 [==============================] - 25s 24ms/sample - loss: 0.0125\n",
      "Epoch 2/25\n",
      "1064/1064 [==============================] - 5s 5ms/sample - loss: 0.0040\n",
      "Epoch 3/25\n",
      "1064/1064 [==============================] - 5s 5ms/sample - loss: 0.0035\n",
      "Epoch 4/25\n",
      "1064/1064 [==============================] - 5s 5ms/sample - loss: 0.0030\n",
      "Epoch 5/25\n",
      "1064/1064 [==============================] - 5s 5ms/sample - loss: 0.0037\n",
      "Epoch 6/25\n",
      "1064/1064 [==============================] - 5s 5ms/sample - loss: 0.0029\n",
      "Epoch 7/25\n",
      "1064/1064 [==============================] - 5s 5ms/sample - loss: 0.0026\n",
      "Epoch 8/25\n",
      "1064/1064 [==============================] - 5s 5ms/sample - loss: 0.0027\n",
      "Epoch 9/25\n",
      "1064/1064 [==============================] - 5s 4ms/sample - loss: 0.0025\n",
      "Epoch 10/25\n",
      "1064/1064 [==============================] - 5s 5ms/sample - loss: 0.0025\n",
      "Epoch 11/25\n",
      "1064/1064 [==============================] - 5s 5ms/sample - loss: 0.0022\n",
      "Epoch 12/25\n",
      "1064/1064 [==============================] - 5s 5ms/sample - loss: 0.0019\n",
      "Epoch 13/25\n",
      "1064/1064 [==============================] - 6s 5ms/sample - loss: 0.0017\n",
      "Epoch 14/25\n",
      "1064/1064 [==============================] - 7s 6ms/sample - loss: 0.0021\n",
      "Epoch 15/25\n",
      "1064/1064 [==============================] - 6s 6ms/sample - loss: 0.0016\n",
      "Epoch 16/25\n",
      "1064/1064 [==============================] - 6s 6ms/sample - loss: 0.0016\n",
      "Epoch 17/25\n",
      "1064/1064 [==============================] - 6s 6ms/sample - loss: 0.0014\n",
      "Epoch 18/25\n",
      "1064/1064 [==============================] - 7s 6ms/sample - loss: 0.0015\n",
      "Epoch 19/25\n",
      "1064/1064 [==============================] - 6s 6ms/sample - loss: 0.0014\n",
      "Epoch 20/25\n",
      "1064/1064 [==============================] - 6s 6ms/sample - loss: 0.0012\n",
      "Epoch 21/25\n",
      "1064/1064 [==============================] - 6s 6ms/sample - loss: 0.0013\n",
      "Epoch 22/25\n",
      "1064/1064 [==============================] - 6s 6ms/sample - loss: 0.0016\n",
      "Epoch 23/25\n",
      "1064/1064 [==============================] - 6s 5ms/sample - loss: 0.0014\n",
      "Epoch 24/25\n",
      "1064/1064 [==============================] - 6s 6ms/sample - loss: 0.0013\n",
      "Epoch 25/25\n",
      "1064/1064 [==============================] - 6s 6ms/sample - loss: 0.0011\n"
     ]
    },
    {
     "data": {
      "text/plain": [
       "<tensorflow.python.keras.callbacks.History at 0x7f91c6a4f190>"
      ]
     },
     "execution_count": 5,
     "metadata": {},
     "output_type": "execute_result"
    }
   ],
   "source": [
    "model = Sequential()\n",
    "\n",
    "model.add(LSTM(units=50, return_sequences=True, input_shape=(x_train.shape[1],1)))\n",
    "model.add(Dropout(0.2))\n",
    "model.add(LSTM(units=50, return_sequences=True))\n",
    "model.add(Dropout(0.2))\n",
    "model.add(LSTM(units=50))\n",
    "model.add(Dropout(0.2))\n",
    "model.add(Dense(units=1))\n",
    "\n",
    "model.compile(optimizer='adam', loss='mean_squared_error')\n",
    "model.fit(x_train, y_train, epochs=25, batch_size=32)"
   ]
  },
  {
   "cell_type": "markdown",
   "id": "261f0fba",
   "metadata": {},
   "source": [
    "## Testing the model"
   ]
  },
  {
   "cell_type": "code",
   "execution_count": 9,
   "id": "f37bc4ca",
   "metadata": {},
   "outputs": [],
   "source": [
    "test_start = dt.datetime(2020, 6, 1)\n",
    "test_end = dt.datetime.now()\n",
    "\n",
    "test_data = web.DataReader(f'{crypto_currency}-{against_currency}', 'yahoo', test_start, test_end)\n",
    "actual_prices = test_data['Close'].values\n",
    "\n",
    "total_dataset = pd.concat((data['Close'], test_data['Close']), axis=0)\n",
    "\n",
    "model_inputs = total_dataset[len(total_dataset)-len(test_data)-prediction_days:].values\n",
    "model_inputs = model_inputs.reshape(-1,1)\n",
    "model_inputs = scaler.fit_transform(model_inputs)\n",
    "\n",
    "x_test = []\n",
    "\n",
    "for x in range(prediction_days, len(model_inputs)):\n",
    "    x_test.append(model_inputs[x-prediction_days:x, 0])\n",
    "\n",
    "x_test = np.array(x_test)\n",
    "x_test = np.reshape(x_test, (x_test.shape[0], x_test.shape[1], 1))\n",
    "\n",
    "prediction_prices = model.predict(x_test)\n",
    "prediction_prices = scaler.inverse_transform(prediction_prices)"
   ]
  },
  {
   "cell_type": "markdown",
   "id": "2d51d63a",
   "metadata": {},
   "source": [
    "## Plot test data"
   ]
  },
  {
   "cell_type": "code",
   "execution_count": 10,
   "id": "8cb33da2",
   "metadata": {},
   "outputs": [
    {
     "data": {
      "image/png": "[encoded data removed]",
      "text/plain": [
       "<Figure size 864x576 with 1 Axes>"
      ]
     },
     "metadata": {
      "needs_background": "light"
     },
     "output_type": "display_data"
    }
   ],
   "source": [
    "plt.figure(figsize=(12,8))\n",
    "plt.plot(actual_prices, color=\"black\", label='Actual Prices')\n",
    "plt.plot(prediction_prices, color=\"green\", label='Predicted Prices')\n",
    "plt.title(f'{crypto_currency} price prediction')\n",
    "plt.xlabel('Time')\n",
    "plt.ylabel('Price')\n",
    "plt.legend(loc='upper left')\n",
    "plt.show()"
   ]
  },
  {
   "cell_type": "markdown",
   "id": "e49ee8ec",
   "metadata": {},
   "source": [
    "## Predict next day"
   ]
  },
  {
   "cell_type": "code",
   "execution_count": 11,
   "id": "61769770",
   "metadata": {},
   "outputs": [
    {
     "name": "stdout",
     "output_type": "stream",
     "text": [
      "Prediction: [[171.64703]]\n"
     ]
    }
   ],
   "source": [
    "real_data = [model_inputs[len(model_inputs)-prediction_days:len(model_inputs)+1, 0]]\n",
    "real_data = np.array(real_data)\n",
    "real_data = np.reshape(real_data, (real_data.shape[0], real_data.shape[1], 1))\n",
    "\n",
    "prediction = model.predict(real_data)\n",
    "prediction = scaler.inverse_transform(prediction)\n",
    "print(f\"Prediction: {prediction}\")"
   ]
  },
  {
   "cell_type": "code",
   "execution_count": null,
   "id": "83ca8d77",
   "metadata": {},
   "outputs": [],
   "source": []
  }
 ],
 "metadata": {
  "kernelspec": {
   "display_name": "Python 3",
   "language": "python",
   "name": "python3"
  },
  "language_info": {
   "codemirror_mode": {
    "name": "ipython",
    "version": 3
   },
   "file_extension": ".py",
   "mimetype": "text/x-python",
   "name": "python",
   "nbconvert_exporter": "python",
   "pygments_lexer": "ipython3",
   "version": "3.7.10"
  }
 },
 "nbformat": 4,
 "nbformat_minor": 5
}
