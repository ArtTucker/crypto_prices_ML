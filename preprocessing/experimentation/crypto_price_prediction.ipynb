{
 "cells": [
  {
   "cell_type": "markdown",
   "id": "a25d6fca",
   "metadata": {},
   "source": [
    "code copied from 'Predicting Crypto Prices in Python' [https://youtu.be/GFSiL6zEZF0]"
   ]
  },
  {
   "cell_type": "markdown",
   "id": "ba2323e4",
   "metadata": {},
   "source": [
    "## import dependencies"
   ]
  },
  {
   "cell_type": "code",
   "execution_count": 1,
   "id": "359ea269",
   "metadata": {},
   "outputs": [],
   "source": [
    "import numpy as np\n",
    "import matplotlib.pyplot as plt\n",
    "import pandas as pd\n",
    "import pandas_datareader as web\n",
    "import datetime as dt\n",
    "\n",
    "from sklearn.preprocessing import MinMaxScaler\n",
    "from tensorflow.keras.models import Sequential\n",
    "from tensorflow.keras.layers import Dense, Dropout, LSTM"
   ]
  },
  {
   "cell_type": "markdown",
   "id": "f18ece8c",
   "metadata": {},
   "source": [
    "## load data"
   ]
  },
  {
   "cell_type": "code",
   "execution_count": 2,
   "id": "cca8e3a0",
   "metadata": {},
   "outputs": [],
   "source": [
    "crypto_currency = 'BTC'\n",
    "against_currency = 'USD'\n",
    "\n",
    "start = dt.datetime(2018,6, 1)\n",
    "end = dt.datetime.now()\n",
    "\n",
    "data = web.DataReader(f'{crypto_currency}-{against_currency}', 'yahoo', start, end)"
   ]
  },
  {
   "cell_type": "code",
   "execution_count": 3,
   "id": "1ad23c99",
   "metadata": {
    "scrolled": true
   },
   "outputs": [
    {
     "data": {
      "text/html": [
       "<div>\n",
       "<style scoped>\n",
       "    .dataframe tbody tr th:only-of-type {\n",
       "        vertical-align: middle;\n",
       "    }\n",
       "\n",
       "    .dataframe tbody tr th {\n",
       "        vertical-align: top;\n",
       "    }\n",
       "\n",
       "    .dataframe thead th {\n",
       "        text-align: right;\n",
       "    }\n",
       "</style>\n",
       "<table border=\"1\" class=\"dataframe\">\n",
       "  <thead>\n",
       "    <tr style=\"text-align: right;\">\n",
       "      <th></th>\n",
       "      <th>High</th>\n",
       "      <th>Low</th>\n",
       "      <th>Open</th>\n",
       "      <th>Close</th>\n",
       "      <th>Volume</th>\n",
       "      <th>Adj Close</th>\n",
       "    </tr>\n",
       "    <tr>\n",
       "      <th>Date</th>\n",
       "      <th></th>\n",
       "      <th></th>\n",
       "      <th></th>\n",
       "      <th></th>\n",
       "      <th></th>\n",
       "      <th></th>\n",
       "    </tr>\n",
       "  </thead>\n",
       "  <tbody>\n",
       "    <tr>\n",
       "      <th>2018-05-31</th>\n",
       "      <td>7604.729980</td>\n",
       "      <td>7407.339844</td>\n",
       "      <td>7500.700195</td>\n",
       "      <td>7541.450195</td>\n",
       "      <td>4.921460e+09</td>\n",
       "      <td>7541.450195</td>\n",
       "    </tr>\n",
       "    <tr>\n",
       "      <th>2018-06-01</th>\n",
       "      <td>7695.830078</td>\n",
       "      <td>7497.259766</td>\n",
       "      <td>7536.720215</td>\n",
       "      <td>7643.450195</td>\n",
       "      <td>4.939300e+09</td>\n",
       "      <td>7643.450195</td>\n",
       "    </tr>\n",
       "    <tr>\n",
       "      <th>2018-06-02</th>\n",
       "      <td>7754.890137</td>\n",
       "      <td>7613.040039</td>\n",
       "      <td>7632.089844</td>\n",
       "      <td>7720.250000</td>\n",
       "      <td>4.851760e+09</td>\n",
       "      <td>7720.250000</td>\n",
       "    </tr>\n",
       "    <tr>\n",
       "      <th>2018-06-03</th>\n",
       "      <td>7753.819824</td>\n",
       "      <td>7474.040039</td>\n",
       "      <td>7722.529785</td>\n",
       "      <td>7514.470215</td>\n",
       "      <td>4.993170e+09</td>\n",
       "      <td>7514.470215</td>\n",
       "    </tr>\n",
       "    <tr>\n",
       "      <th>2018-06-04</th>\n",
       "      <td>7643.229980</td>\n",
       "      <td>7397.000000</td>\n",
       "      <td>7500.899902</td>\n",
       "      <td>7633.759766</td>\n",
       "      <td>4.961740e+09</td>\n",
       "      <td>7633.759766</td>\n",
       "    </tr>\n",
       "    <tr>\n",
       "      <th>...</th>\n",
       "      <td>...</td>\n",
       "      <td>...</td>\n",
       "      <td>...</td>\n",
       "      <td>...</td>\n",
       "      <td>...</td>\n",
       "      <td>...</td>\n",
       "    </tr>\n",
       "    <tr>\n",
       "      <th>2021-06-21</th>\n",
       "      <td>33292.453125</td>\n",
       "      <td>28893.621094</td>\n",
       "      <td>31622.376953</td>\n",
       "      <td>32505.660156</td>\n",
       "      <td>5.896435e+10</td>\n",
       "      <td>32505.660156</td>\n",
       "    </tr>\n",
       "    <tr>\n",
       "      <th>2021-06-22</th>\n",
       "      <td>34753.410156</td>\n",
       "      <td>31772.632812</td>\n",
       "      <td>32515.714844</td>\n",
       "      <td>33723.027344</td>\n",
       "      <td>4.631711e+10</td>\n",
       "      <td>33723.027344</td>\n",
       "    </tr>\n",
       "    <tr>\n",
       "      <th>2021-06-23</th>\n",
       "      <td>35228.851562</td>\n",
       "      <td>32385.214844</td>\n",
       "      <td>33682.800781</td>\n",
       "      <td>34662.437500</td>\n",
       "      <td>3.312337e+10</td>\n",
       "      <td>34662.437500</td>\n",
       "    </tr>\n",
       "    <tr>\n",
       "      <th>2021-06-24</th>\n",
       "      <td>35487.246094</td>\n",
       "      <td>31350.884766</td>\n",
       "      <td>34659.105469</td>\n",
       "      <td>31637.779297</td>\n",
       "      <td>4.023090e+10</td>\n",
       "      <td>31637.779297</td>\n",
       "    </tr>\n",
       "    <tr>\n",
       "      <th>2021-06-26</th>\n",
       "      <td>32592.980469</td>\n",
       "      <td>30184.501953</td>\n",
       "      <td>31389.406250</td>\n",
       "      <td>30938.179688</td>\n",
       "      <td>4.263449e+10</td>\n",
       "      <td>30938.179688</td>\n",
       "    </tr>\n",
       "  </tbody>\n",
       "</table>\n",
       "<p>1118 rows × 6 columns</p>\n",
       "</div>"
      ],
      "text/plain": [
       "                    High           Low          Open         Close  \\\n",
       "Date                                                                 \n",
       "2018-05-31   7604.729980   7407.339844   7500.700195   7541.450195   \n",
       "2018-06-01   7695.830078   7497.259766   7536.720215   7643.450195   \n",
       "2018-06-02   7754.890137   7613.040039   7632.089844   7720.250000   \n",
       "2018-06-03   7753.819824   7474.040039   7722.529785   7514.470215   \n",
       "2018-06-04   7643.229980   7397.000000   7500.899902   7633.759766   \n",
       "...                  ...           ...           ...           ...   \n",
       "2021-06-21  33292.453125  28893.621094  31622.376953  32505.660156   \n",
       "2021-06-22  34753.410156  31772.632812  32515.714844  33723.027344   \n",
       "2021-06-23  35228.851562  32385.214844  33682.800781  34662.437500   \n",
       "2021-06-24  35487.246094  31350.884766  34659.105469  31637.779297   \n",
       "2021-06-26  32592.980469  30184.501953  31389.406250  30938.179688   \n",
       "\n",
       "                  Volume     Adj Close  \n",
       "Date                                    \n",
       "2018-05-31  4.921460e+09   7541.450195  \n",
       "2018-06-01  4.939300e+09   7643.450195  \n",
       "2018-06-02  4.851760e+09   7720.250000  \n",
       "2018-06-03  4.993170e+09   7514.470215  \n",
       "2018-06-04  4.961740e+09   7633.759766  \n",
       "...                  ...           ...  \n",
       "2021-06-21  5.896435e+10  32505.660156  \n",
       "2021-06-22  4.631711e+10  33723.027344  \n",
       "2021-06-23  3.312337e+10  34662.437500  \n",
       "2021-06-24  4.023090e+10  31637.779297  \n",
       "2021-06-26  4.263449e+10  30938.179688  \n",
       "\n",
       "[1118 rows x 6 columns]"
      ]
     },
     "execution_count": 3,
     "metadata": {},
     "output_type": "execute_result"
    }
   ],
   "source": [
    "data"
   ]
  },
  {
   "cell_type": "markdown",
   "id": "459971c9",
   "metadata": {},
   "source": [
    "## Prepare Data"
   ]
  },
  {
   "cell_type": "code",
   "execution_count": 4,
   "id": "4af15b7c",
   "metadata": {},
   "outputs": [],
   "source": [
    "scaler = MinMaxScaler(feature_range=(0,1))\n",
    "scaled_data = scaler.fit_transform(data['Close'].values.reshape(-1,1))\n",
    "\n",
    "prediction_days = 60\n",
    "future_day = 30\n",
    "\n",
    "x_train, y_train = [], []\n",
    "\n",
    "for x in range(prediction_days, len(scaled_data)-future_day):\n",
    "    x_train.append(scaled_data[x-prediction_days:x, 0])\n",
    "    y_train.append(scaled_data[x+future_day, 0])\n",
    "    \n",
    "x_train, y_train = np.array(x_train), np.array(y_train)\n",
    "x_train = np.reshape(x_train, (x_train.shape[0], x_train.shape[1], 1))"
   ]
  },
  {
   "cell_type": "markdown",
   "id": "d551d22c",
   "metadata": {},
   "source": [
    "## Create Neural Network"
   ]
  },
  {
   "cell_type": "code",
   "execution_count": 5,
   "id": "cb3260df",
   "metadata": {
    "scrolled": true
   },
   "outputs": [
    {
     "name": "stdout",
     "output_type": "stream",
     "text": [
      "Train on 1028 samples\n",
      "Epoch 1/25\n",
      "1028/1028 [==============================] - 7s 7ms/sample - loss: 0.0225\n",
      "Epoch 2/25\n",
      "1028/1028 [==============================] - 2s 2ms/sample - loss: 0.0111\n",
      "Epoch 3/25\n",
      "1028/1028 [==============================] - 2s 2ms/sample - loss: 0.0094\n",
      "Epoch 4/25\n",
      "1028/1028 [==============================] - 2s 2ms/sample - loss: 0.0095\n",
      "Epoch 5/25\n",
      "1028/1028 [==============================] - 2s 2ms/sample - loss: 0.0091\n",
      "Epoch 6/25\n",
      "1028/1028 [==============================] - 2s 2ms/sample - loss: 0.0089\n",
      "Epoch 7/25\n",
      "1028/1028 [==============================] - 3s 2ms/sample - loss: 0.0070\n",
      "Epoch 8/25\n",
      "1028/1028 [==============================] - 2s 2ms/sample - loss: 0.0063\n",
      "Epoch 9/25\n",
      "1028/1028 [==============================] - 3s 3ms/sample - loss: 0.0050\n",
      "Epoch 10/25\n",
      "1028/1028 [==============================] - 3s 3ms/sample - loss: 0.0056\n",
      "Epoch 11/25\n",
      "1028/1028 [==============================] - 3s 3ms/sample - loss: 0.0049\n",
      "Epoch 12/25\n",
      "1028/1028 [==============================] - 3s 3ms/sample - loss: 0.0059\n",
      "Epoch 13/25\n",
      "1028/1028 [==============================] - 2s 2ms/sample - loss: 0.0043\n",
      "Epoch 14/25\n",
      "1028/1028 [==============================] - 2s 2ms/sample - loss: 0.0037\n",
      "Epoch 15/25\n",
      "1028/1028 [==============================] - 2s 2ms/sample - loss: 0.0033\n",
      "Epoch 16/25\n",
      "1028/1028 [==============================] - 2s 2ms/sample - loss: 0.0054\n",
      "Epoch 17/25\n",
      "1028/1028 [==============================] - 3s 3ms/sample - loss: 0.0041\n",
      "Epoch 18/25\n",
      "1028/1028 [==============================] - 2s 2ms/sample - loss: 0.0036\n",
      "Epoch 19/25\n",
      "1028/1028 [==============================] - 3s 3ms/sample - loss: 0.0043\n",
      "Epoch 20/25\n",
      "1028/1028 [==============================] - 2s 2ms/sample - loss: 0.0053\n",
      "Epoch 21/25\n",
      "1028/1028 [==============================] - 2s 2ms/sample - loss: 0.0041\n",
      "Epoch 22/25\n",
      "1028/1028 [==============================] - 3s 3ms/sample - loss: 0.0039\n",
      "Epoch 23/25\n",
      "1028/1028 [==============================] - 3s 3ms/sample - loss: 0.0041\n",
      "Epoch 24/25\n",
      "1028/1028 [==============================] - 3s 2ms/sample - loss: 0.0059\n",
      "Epoch 25/25\n",
      "1028/1028 [==============================] - 3s 3ms/sample - loss: 0.0042\n"
     ]
    },
    {
     "data": {
      "text/plain": [
       "<tensorflow.python.keras.callbacks.History at 0x7fc61ded0c50>"
      ]
     },
     "execution_count": 5,
     "metadata": {},
     "output_type": "execute_result"
    }
   ],
   "source": [
    "model = Sequential()\n",
    "\n",
    "model.add(LSTM(units=50, return_sequences=True, input_shape=(x_train.shape[1],1)))\n",
    "model.add(Dropout(0.2))\n",
    "model.add(LSTM(units=50, return_sequences=True))\n",
    "model.add(Dropout(0.2))\n",
    "model.add(LSTM(units=50))\n",
    "model.add(Dropout(0.2))\n",
    "model.add(Dense(units=1))\n",
    "\n",
    "model.compile(optimizer='adam', loss='mean_squared_error')\n",
    "model.fit(x_train, y_train, epochs=25, batch_size=32)"
   ]
  },
  {
   "cell_type": "markdown",
   "id": "261f0fba",
   "metadata": {},
   "source": [
    "## Testing the model"
   ]
  },
  {
   "cell_type": "code",
   "execution_count": 6,
   "id": "f37bc4ca",
   "metadata": {},
   "outputs": [],
   "source": [
    "test_start = dt.datetime(2020, 6, 1)\n",
    "test_end = dt.datetime.now()\n",
    "\n",
    "test_data = web.DataReader(f'{crypto_currency}-{against_currency}', 'yahoo', test_start, test_end)\n",
    "actual_prices = test_data['Close'].values\n",
    "\n",
    "total_dataset = pd.concat((data['Close'], test_data['Close']), axis=0)\n",
    "\n",
    "model_inputs = total_dataset[len(total_dataset)-len(test_data)-prediction_days:].values\n",
    "model_inputs = model_inputs.reshape(-1,1)\n",
    "model_inputs = scaler.fit_transform(model_inputs)\n",
    "\n",
    "x_test = []\n",
    "\n",
    "for x in range(prediction_days, len(model_inputs)):\n",
    "    x_test.append(model_inputs[x-prediction_days:x, 0])\n",
    "\n",
    "x_test = np.array(x_test)\n",
    "x_test = np.reshape(x_test, (x_test.shape[0], x_test.shape[1], 1))\n",
    "\n",
    "prediction_prices = model.predict(x_test)\n",
    "prediction_prices = scaler.inverse_transform(prediction_prices)"
   ]
  },
  {
   "cell_type": "markdown",
   "id": "2d51d63a",
   "metadata": {},
   "source": [
    "## Plot test data"
   ]
  },
  {
   "cell_type": "code",
   "execution_count": 9,
   "id": "8cb33da2",
   "metadata": {},
   "outputs": [
    {
     "data": {
      "image/png": "[encoded data removed]",
      "text/plain": [
       "<Figure size 864x576 with 1 Axes>"
      ]
     },
     "metadata": {
      "needs_background": "light"
     },
     "output_type": "display_data"
    }
   ],
   "source": [
    "plt.figure(figsize=(12,8))\n",
    "plt.plot(actual_prices, color=\"black\", label='Actual Prices')\n",
    "plt.plot(prediction_prices, color=\"green\", label='Predicted Prices 30 days out')\n",
    "plt.title(f'{crypto_currency} price prediction')\n",
    "plt.xlabel('Time')\n",
    "plt.ylabel('Price')\n",
    "plt.legend(loc='upper left')\n",
    "plt.show()"
   ]
  },
  {
   "cell_type": "markdown",
   "id": "e49ee8ec",
   "metadata": {},
   "source": [
    "## Predict next day"
   ]
  },
  {
   "cell_type": "code",
   "execution_count": 8,
   "id": "61769770",
   "metadata": {},
   "outputs": [
    {
     "name": "stdout",
     "output_type": "stream",
     "text": [
      "Prediction: [[44805.316]]\n"
     ]
    }
   ],
   "source": [
    "real_data = [model_inputs[len(model_inputs)-prediction_days:len(model_inputs)+1, 0]]\n",
    "real_data = np.array(real_data)\n",
    "real_data = np.reshape(real_data, (real_data.shape[0], real_data.shape[1], 1))\n",
    "\n",
    "prediction = model.predict(real_data)\n",
    "prediction = scaler.inverse_transform(prediction)\n",
    "print(f\"Prediction: {prediction}\")"
   ]
  },
  {
   "cell_type": "code",
   "execution_count": null,
   "id": "83ca8d77",
   "metadata": {},
   "outputs": [],
   "source": []
  }
 ],
 "metadata": {
  "kernelspec": {
   "display_name": "Python 3",
   "language": "python",
   "name": "python3"
  },
  "language_info": {
   "codemirror_mode": {
    "name": "ipython",
    "version": 3
   },
   "file_extension": ".py",
   "mimetype": "text/x-python",
   "name": "python",
   "nbconvert_exporter": "python",
   "pygments_lexer": "ipython3",
   "version": "3.7.10"
  }
 },
 "nbformat": 4,
 "nbformat_minor": 5
}
