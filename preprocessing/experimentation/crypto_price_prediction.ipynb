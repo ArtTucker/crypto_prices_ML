{
 "cells": [
  {
   "cell_type": "markdown",
   "id": "a25d6fca",
   "metadata": {},
   "source": [
    "code copied from 'Predicting Crypto Prices in Python' [https://youtu.be/GFSiL6zEZF0]"
   ]
  },
  {
   "cell_type": "markdown",
   "id": "ba2323e4",
   "metadata": {},
   "source": [
    "## import dependencies"
   ]
  },
  {
   "cell_type": "code",
   "execution_count": 1,
   "id": "359ea269",
   "metadata": {},
   "outputs": [],
   "source": [
    "import numpy as np\n",
    "import matplotlib.pyplot as plt\n",
    "import pandas as pd\n",
    "import pandas_datareader as web\n",
    "import datetime as dt\n",
    "\n",
    "from sklearn.preprocessing import MinMaxScaler\n",
    "from tensorflow.keras.models import Sequential\n",
    "from tensorflow.keras.layers import Dense, Dropout, LSTM"
   ]
  },
  {
   "cell_type": "markdown",
   "id": "f18ece8c",
   "metadata": {},
   "source": [
    "## load data"
   ]
  },
  {
   "cell_type": "code",
   "execution_count": 2,
   "id": "cca8e3a0",
   "metadata": {},
   "outputs": [],
   "source": [
    "crypto_currency = 'ETH'\n",
    "against_currency = 'USD'\n",
    "\n",
    "start = dt.datetime(2018,6, 1)\n",
    "end = dt.datetime.now()\n",
    "\n",
    "data = web.DataReader(f'{crypto_currency}-{against_currency}', 'yahoo', start, end)"
   ]
  },
  {
   "cell_type": "code",
   "execution_count": 3,
   "id": "1ad23c99",
   "metadata": {
    "scrolled": true
   },
   "outputs": [
    {
     "data": {
      "text/html": [
       "<div>\n",
       "<style scoped>\n",
       "    .dataframe tbody tr th:only-of-type {\n",
       "        vertical-align: middle;\n",
       "    }\n",
       "\n",
       "    .dataframe tbody tr th {\n",
       "        vertical-align: top;\n",
       "    }\n",
       "\n",
       "    .dataframe thead th {\n",
       "        text-align: right;\n",
       "    }\n",
       "</style>\n",
       "<table border=\"1\" class=\"dataframe\">\n",
       "  <thead>\n",
       "    <tr style=\"text-align: right;\">\n",
       "      <th></th>\n",
       "      <th>High</th>\n",
       "      <th>Low</th>\n",
       "      <th>Open</th>\n",
       "      <th>Close</th>\n",
       "      <th>Volume</th>\n",
       "      <th>Adj Close</th>\n",
       "    </tr>\n",
       "    <tr>\n",
       "      <th>Date</th>\n",
       "      <th></th>\n",
       "      <th></th>\n",
       "      <th></th>\n",
       "      <th></th>\n",
       "      <th></th>\n",
       "      <th></th>\n",
       "    </tr>\n",
       "  </thead>\n",
       "  <tbody>\n",
       "    <tr>\n",
       "      <th>2018-05-31</th>\n",
       "      <td>589.093018</td>\n",
       "      <td>567.664978</td>\n",
       "      <td>578.671997</td>\n",
       "      <td>580.043030</td>\n",
       "      <td>1.945890e+09</td>\n",
       "      <td>580.043030</td>\n",
       "    </tr>\n",
       "    <tr>\n",
       "      <th>2018-06-01</th>\n",
       "      <td>597.077026</td>\n",
       "      <td>577.322021</td>\n",
       "      <td>580.429016</td>\n",
       "      <td>591.807983</td>\n",
       "      <td>1.880390e+09</td>\n",
       "      <td>591.807983</td>\n",
       "    </tr>\n",
       "    <tr>\n",
       "      <th>2018-06-02</th>\n",
       "      <td>624.513000</td>\n",
       "      <td>591.258972</td>\n",
       "      <td>591.258972</td>\n",
       "      <td>618.328979</td>\n",
       "      <td>1.832550e+09</td>\n",
       "      <td>618.328979</td>\n",
       "    </tr>\n",
       "    <tr>\n",
       "      <th>2018-06-03</th>\n",
       "      <td>623.429016</td>\n",
       "      <td>583.747009</td>\n",
       "      <td>619.437012</td>\n",
       "      <td>592.984985</td>\n",
       "      <td>1.903430e+09</td>\n",
       "      <td>592.984985</td>\n",
       "    </tr>\n",
       "    <tr>\n",
       "      <th>2018-06-04</th>\n",
       "      <td>611.330017</td>\n",
       "      <td>580.981995</td>\n",
       "      <td>593.406006</td>\n",
       "      <td>609.302979</td>\n",
       "      <td>1.844270e+09</td>\n",
       "      <td>609.302979</td>\n",
       "    </tr>\n",
       "    <tr>\n",
       "      <th>...</th>\n",
       "      <td>...</td>\n",
       "      <td>...</td>\n",
       "      <td>...</td>\n",
       "      <td>...</td>\n",
       "      <td>...</td>\n",
       "      <td>...</td>\n",
       "    </tr>\n",
       "    <tr>\n",
       "      <th>2021-06-21</th>\n",
       "      <td>1993.159790</td>\n",
       "      <td>1707.600586</td>\n",
       "      <td>1886.667603</td>\n",
       "      <td>1874.950073</td>\n",
       "      <td>3.554725e+10</td>\n",
       "      <td>1874.950073</td>\n",
       "    </tr>\n",
       "    <tr>\n",
       "      <th>2021-06-22</th>\n",
       "      <td>2043.530396</td>\n",
       "      <td>1827.571533</td>\n",
       "      <td>1878.625000</td>\n",
       "      <td>1989.736328</td>\n",
       "      <td>2.840866e+10</td>\n",
       "      <td>1989.736328</td>\n",
       "    </tr>\n",
       "    <tr>\n",
       "      <th>2021-06-23</th>\n",
       "      <td>2032.339355</td>\n",
       "      <td>1887.432007</td>\n",
       "      <td>1968.957397</td>\n",
       "      <td>1988.456299</td>\n",
       "      <td>2.027285e+10</td>\n",
       "      <td>1988.456299</td>\n",
       "    </tr>\n",
       "    <tr>\n",
       "      <th>2021-06-24</th>\n",
       "      <td>2017.759521</td>\n",
       "      <td>1794.400391</td>\n",
       "      <td>1989.215820</td>\n",
       "      <td>1813.217285</td>\n",
       "      <td>2.277433e+10</td>\n",
       "      <td>1813.217285</td>\n",
       "    </tr>\n",
       "    <tr>\n",
       "      <th>2021-06-26</th>\n",
       "      <td>1847.590942</td>\n",
       "      <td>1719.559448</td>\n",
       "      <td>1803.033691</td>\n",
       "      <td>1764.674072</td>\n",
       "      <td>2.314144e+10</td>\n",
       "      <td>1764.674072</td>\n",
       "    </tr>\n",
       "  </tbody>\n",
       "</table>\n",
       "<p>1118 rows × 6 columns</p>\n",
       "</div>"
      ],
      "text/plain": [
       "                   High          Low         Open        Close        Volume  \\\n",
       "Date                                                                           \n",
       "2018-05-31   589.093018   567.664978   578.671997   580.043030  1.945890e+09   \n",
       "2018-06-01   597.077026   577.322021   580.429016   591.807983  1.880390e+09   \n",
       "2018-06-02   624.513000   591.258972   591.258972   618.328979  1.832550e+09   \n",
       "2018-06-03   623.429016   583.747009   619.437012   592.984985  1.903430e+09   \n",
       "2018-06-04   611.330017   580.981995   593.406006   609.302979  1.844270e+09   \n",
       "...                 ...          ...          ...          ...           ...   \n",
       "2021-06-21  1993.159790  1707.600586  1886.667603  1874.950073  3.554725e+10   \n",
       "2021-06-22  2043.530396  1827.571533  1878.625000  1989.736328  2.840866e+10   \n",
       "2021-06-23  2032.339355  1887.432007  1968.957397  1988.456299  2.027285e+10   \n",
       "2021-06-24  2017.759521  1794.400391  1989.215820  1813.217285  2.277433e+10   \n",
       "2021-06-26  1847.590942  1719.559448  1803.033691  1764.674072  2.314144e+10   \n",
       "\n",
       "              Adj Close  \n",
       "Date                     \n",
       "2018-05-31   580.043030  \n",
       "2018-06-01   591.807983  \n",
       "2018-06-02   618.328979  \n",
       "2018-06-03   592.984985  \n",
       "2018-06-04   609.302979  \n",
       "...                 ...  \n",
       "2021-06-21  1874.950073  \n",
       "2021-06-22  1989.736328  \n",
       "2021-06-23  1988.456299  \n",
       "2021-06-24  1813.217285  \n",
       "2021-06-26  1764.674072  \n",
       "\n",
       "[1118 rows x 6 columns]"
      ]
     },
     "execution_count": 3,
     "metadata": {},
     "output_type": "execute_result"
    }
   ],
   "source": [
    "data"
   ]
  },
  {
   "cell_type": "markdown",
   "id": "459971c9",
   "metadata": {},
   "source": [
    "## Prepare Data"
   ]
  },
  {
   "cell_type": "code",
   "execution_count": 4,
   "id": "4af15b7c",
   "metadata": {},
   "outputs": [],
   "source": [
    "scaler = MinMaxScaler(feature_range=(0,1))\n",
    "scaled_data = scaler.fit_transform(data['Close'].values.reshape(-1,1))\n",
    "\n",
    "prediction_days = 60\n",
    "future_day = 30\n",
    "\n",
    "x_train, y_train = [], []\n",
    "\n",
    "for x in range(prediction_days, len(scaled_data)-future_day):\n",
    "    x_train.append(scaled_data[x-prediction_days:x, 0])\n",
    "    y_train.append(scaled_data[x+future_day, 0])\n",
    "    \n",
    "x_train, y_train = np.array(x_train), np.array(y_train)\n",
    "x_train = np.reshape(x_train, (x_train.shape[0], x_train.shape[1], 1))"
   ]
  },
  {
   "cell_type": "markdown",
   "id": "d551d22c",
   "metadata": {},
   "source": [
    "## Create Neural Network"
   ]
  },
  {
   "cell_type": "code",
   "execution_count": 5,
   "id": "cb3260df",
   "metadata": {
    "scrolled": true
   },
   "outputs": [
    {
     "name": "stdout",
     "output_type": "stream",
     "text": [
      "Train on 1028 samples\n",
      "Epoch 1/25\n",
      "1028/1028 [==============================] - 8s 8ms/sample - loss: 0.0136\n",
      "Epoch 2/25\n",
      "1028/1028 [==============================] - 3s 3ms/sample - loss: 0.0054\n",
      "Epoch 3/25\n",
      "1028/1028 [==============================] - 3s 3ms/sample - loss: 0.0059\n",
      "Epoch 4/25\n",
      "1028/1028 [==============================] - 3s 2ms/sample - loss: 0.0050\n",
      "Epoch 5/25\n",
      "1028/1028 [==============================] - 3s 2ms/sample - loss: 0.0046\n",
      "Epoch 6/25\n",
      "1028/1028 [==============================] - 2s 2ms/sample - loss: 0.0041\n",
      "Epoch 7/25\n",
      "1028/1028 [==============================] - 3s 3ms/sample - loss: 0.0040\n",
      "Epoch 8/25\n",
      "1028/1028 [==============================] - 2s 2ms/sample - loss: 0.0039\n",
      "Epoch 9/25\n",
      "1028/1028 [==============================] - 3s 2ms/sample - loss: 0.0038\n",
      "Epoch 10/25\n",
      "1028/1028 [==============================] - 2s 2ms/sample - loss: 0.0037\n",
      "Epoch 11/25\n",
      "1028/1028 [==============================] - 3s 2ms/sample - loss: 0.0038\n",
      "Epoch 12/25\n",
      "1028/1028 [==============================] - 3s 3ms/sample - loss: 0.0042\n",
      "Epoch 13/25\n",
      "1028/1028 [==============================] - 3s 2ms/sample - loss: 0.0037\n",
      "Epoch 14/25\n",
      "1028/1028 [==============================] - 3s 3ms/sample - loss: 0.0037\n",
      "Epoch 15/25\n",
      "1028/1028 [==============================] - 4s 3ms/sample - loss: 0.0035\n",
      "Epoch 16/25\n",
      "1028/1028 [==============================] - 3s 3ms/sample - loss: 0.0038\n",
      "Epoch 17/25\n",
      "1028/1028 [==============================] - 3s 3ms/sample - loss: 0.0036\n",
      "Epoch 18/25\n",
      "1028/1028 [==============================] - 3s 2ms/sample - loss: 0.0038\n",
      "Epoch 19/25\n",
      "1028/1028 [==============================] - 3s 3ms/sample - loss: 0.0033\n",
      "Epoch 20/25\n",
      "1028/1028 [==============================] - 2s 2ms/sample - loss: 0.0038\n",
      "Epoch 21/25\n",
      "1028/1028 [==============================] - 2s 2ms/sample - loss: 0.0038\n",
      "Epoch 22/25\n",
      "1028/1028 [==============================] - 2s 2ms/sample - loss: 0.0036\n",
      "Epoch 23/25\n",
      "1028/1028 [==============================] - 2s 2ms/sample - loss: 0.0030\n",
      "Epoch 24/25\n",
      "1028/1028 [==============================] - 2s 2ms/sample - loss: 0.0033\n",
      "Epoch 25/25\n",
      "1028/1028 [==============================] - 2s 2ms/sample - loss: 0.0031\n"
     ]
    },
    {
     "data": {
      "text/plain": [
       "<tensorflow.python.keras.callbacks.History at 0x7fb7c9810f90>"
      ]
     },
     "execution_count": 5,
     "metadata": {},
     "output_type": "execute_result"
    }
   ],
   "source": [
    "model = Sequential()\n",
    "\n",
    "model.add(LSTM(units=50, return_sequences=True, input_shape=(x_train.shape[1],1)))\n",
    "model.add(Dropout(0.2))\n",
    "model.add(LSTM(units=50, return_sequences=True))\n",
    "model.add(Dropout(0.2))\n",
    "model.add(LSTM(units=50))\n",
    "model.add(Dropout(0.2))\n",
    "model.add(Dense(units=1))\n",
    "\n",
    "model.compile(optimizer='adam', loss='mean_squared_error')\n",
    "model.fit(x_train, y_train, epochs=25, batch_size=32)"
   ]
  },
  {
   "cell_type": "markdown",
   "id": "261f0fba",
   "metadata": {},
   "source": [
    "## Testing the model"
   ]
  },
  {
   "cell_type": "code",
   "execution_count": 6,
   "id": "f37bc4ca",
   "metadata": {},
   "outputs": [],
   "source": [
    "test_start = dt.datetime(2020, 6, 1)\n",
    "test_end = dt.datetime.now()\n",
    "\n",
    "test_data = web.DataReader(f'{crypto_currency}-{against_currency}', 'yahoo', test_start, test_end)\n",
    "actual_prices = test_data['Close'].values\n",
    "\n",
    "total_dataset = pd.concat((data['Close'], test_data['Close']), axis=0)\n",
    "\n",
    "model_inputs = total_dataset[len(total_dataset)-len(test_data)-prediction_days:].values\n",
    "model_inputs = model_inputs.reshape(-1,1)\n",
    "model_inputs = scaler.fit_transform(model_inputs)\n",
    "\n",
    "x_test = []\n",
    "\n",
    "for x in range(prediction_days, len(model_inputs)):\n",
    "    x_test.append(model_inputs[x-prediction_days:x, 0])\n",
    "\n",
    "x_test = np.array(x_test)\n",
    "x_test = np.reshape(x_test, (x_test.shape[0], x_test.shape[1], 1))\n",
    "\n",
    "prediction_prices = model.predict(x_test)\n",
    "prediction_prices = scaler.inverse_transform(prediction_prices)"
   ]
  },
  {
   "cell_type": "markdown",
   "id": "2d51d63a",
   "metadata": {},
   "source": [
    "## Plot test data"
   ]
  },
  {
   "cell_type": "code",
   "execution_count": 7,
   "id": "8cb33da2",
   "metadata": {},
   "outputs": [
    {
     "data": {
      "image/png": "[encoded data removed]",
      "text/plain": [
       "<Figure size 864x576 with 1 Axes>"
      ]
     },
     "metadata": {
      "needs_background": "light"
     },
     "output_type": "display_data"
    }
   ],
   "source": [
    "plt.figure(figsize=(12,8))\n",
    "plt.plot(actual_prices, color=\"black\", label='Actual Prices')\n",
    "plt.plot(prediction_prices, color=\"green\", label='Predicted Prices')\n",
    "plt.title(f'{crypto_currency} price prediction')\n",
    "plt.xlabel('Time')\n",
    "plt.ylabel('Price')\n",
    "plt.legend(loc='upper left')\n",
    "plt.show()"
   ]
  },
  {
   "cell_type": "markdown",
   "id": "e49ee8ec",
   "metadata": {},
   "source": [
    "## Predict next day"
   ]
  },
  {
   "cell_type": "code",
   "execution_count": 8,
   "id": "61769770",
   "metadata": {},
   "outputs": [
    {
     "name": "stdout",
     "output_type": "stream",
     "text": [
      "Prediction: [[2347.701]]\n"
     ]
    }
   ],
   "source": [
    "real_data = [model_inputs[len(model_inputs)-prediction_days:len(model_inputs)+1, 0]]\n",
    "real_data = np.array(real_data)\n",
    "real_data = np.reshape(real_data, (real_data.shape[0], real_data.shape[1], 1))\n",
    "\n",
    "prediction = model.predict(real_data)\n",
    "prediction = scaler.inverse_transform(prediction)\n",
    "print(f\"Prediction: {prediction}\")"
   ]
  },
  {
   "cell_type": "code",
   "execution_count": null,
   "id": "83ca8d77",
   "metadata": {},
   "outputs": [],
   "source": []
  }
 ],
 "metadata": {
  "kernelspec": {
   "display_name": "Python 3",
   "language": "python",
   "name": "python3"
  },
  "language_info": {
   "codemirror_mode": {
    "name": "ipython",
    "version": 3
   },
   "file_extension": ".py",
   "mimetype": "text/x-python",
   "name": "python",
   "nbconvert_exporter": "python",
   "pygments_lexer": "ipython3",
   "version": "3.7.10"
  }
 },
 "nbformat": 4,
 "nbformat_minor": 5
}
