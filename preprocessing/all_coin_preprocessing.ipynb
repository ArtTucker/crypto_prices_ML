{
 "cells": [
  {
   "cell_type": "markdown",
   "id": "67d631aa",
   "metadata": {},
   "source": [
    "## import dependencies"
   ]
  },
  {
   "cell_type": "code",
   "execution_count": 1,
   "id": "b2f5d41a",
   "metadata": {},
   "outputs": [],
   "source": [
    "import os\n",
    "import glob\n",
    "import pandas as pd\n",
    "import numpy as np"
   ]
  },
  {
   "cell_type": "markdown",
   "id": "75063522",
   "metadata": {},
   "source": [
    "## run process on all CSVs in folder and output updated CSVs"
   ]
  },
  {
   "cell_type": "code",
   "execution_count": 2,
   "id": "9f938de5",
   "metadata": {},
   "outputs": [],
   "source": [
    "# load data\n",
    "files = glob.glob('../resources/prices/*.csv')\n",
    "\n",
    "for file in files:\n",
    "    coin_df = pd.read_csv(file)\n",
    "    \n",
    "    # remove time from datetime column\n",
    "    coin_df['Date'] = pd.to_datetime(coin_df['Date']).dt.date\n",
    "    \n",
    "    # create column for daily spread\n",
    "    coin_df['Spread'] = coin_df.High - coin_df.Low\n",
    "    \n",
    "    # output to new CSV files\n",
    "    coin_df.to_csv('../processed/{}_conv.csv'.format(file), index=False)"
   ]
  },
  {
   "cell_type": "code",
   "execution_count": null,
   "id": "8588484e",
   "metadata": {},
   "outputs": [],
   "source": []
  }
 ],
 "metadata": {
  "kernelspec": {
   "display_name": "Python 3",
   "language": "python",
   "name": "python3"
  },
  "language_info": {
   "codemirror_mode": {
    "name": "ipython",
    "version": 3
   },
   "file_extension": ".py",
   "mimetype": "text/x-python",
   "name": "python",
   "nbconvert_exporter": "python",
   "pygments_lexer": "ipython3",
   "version": "3.7.10"
  }
 },
 "nbformat": 4,
 "nbformat_minor": 5
}
