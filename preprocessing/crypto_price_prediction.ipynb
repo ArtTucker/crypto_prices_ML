{
 "cells": [
  {
   "cell_type": "markdown",
   "id": "2c6b8eff",
   "metadata": {},
   "source": [
    "code copied from 'Predicting Crypto Prices in Python' [https://youtu.be/GFSiL6zEZF0]"
   ]
  },
  {
   "cell_type": "markdown",
   "id": "63ca55d0",
   "metadata": {},
   "source": [
    "## import dependencies"
   ]
  },
  {
   "cell_type": "code",
   "execution_count": 1,
   "id": "642b8d00",
   "metadata": {},
   "outputs": [],
   "source": [
    "import numpy as np\n",
    "import matplotlib.pyplot as plt\n",
    "import pandas as pd\n",
    "import pandas_datareader as web\n",
    "import datetime as dt\n",
    "\n",
    "from sklearn.preprocessing import MinMaxScaler\n",
    "from tensorflow.keras.models import Sequential\n",
    "from tensorflow.keras.layers import Dense, Dropout, LSTM"
   ]
  },
  {
   "cell_type": "markdown",
   "id": "286bd135",
   "metadata": {},
   "source": [
    "## load data"
   ]
  },
  {
   "cell_type": "code",
   "execution_count": 2,
   "id": "c815dff8",
   "metadata": {},
   "outputs": [],
   "source": [
    "crypto_currency = 'ETH'\n",
    "against_currency = 'USD'\n",
    "\n",
    "start = dt.datetime(2016, 1, 1)\n",
    "end = dt.datetime.now()\n",
    "\n",
    "data = web.DataReader(f'{crypto_currency}-{against_currency}', 'yahoo', start, end)"
   ]
  },
  {
   "cell_type": "markdown",
   "id": "7765c1da",
   "metadata": {},
   "source": [
    "## Prepare Data"
   ]
  },
  {
   "cell_type": "code",
   "execution_count": 3,
   "id": "33d395dc",
   "metadata": {},
   "outputs": [],
   "source": [
    "scaler = MinMaxScaler(feature_range=(0,1))\n",
    "scaled_data = scaler.fit_transform(data['Close'].values.reshape(-1,1))\n",
    "\n",
    "prediction_days = 45\n",
    "\n",
    "x_train, y_train = [], []\n",
    "\n",
    "for x in range(prediction_days, len(scaled_data)):\n",
    "    x_train.append(scaled_data[x-prediction_days:x, 0])\n",
    "    y_train.append(scaled_data[x, 0])\n",
    "    \n",
    "x_train, y_train = np.array(x_train), np.array(y_train)\n",
    "x_train = np.reshape(x_train, (x_train.shape[0], x_train.shape[1], 1))"
   ]
  },
  {
   "cell_type": "markdown",
   "id": "a82bbd03",
   "metadata": {},
   "source": [
    "## Create Neural Network"
   ]
  },
  {
   "cell_type": "code",
   "execution_count": 4,
   "id": "86cd83c9",
   "metadata": {
    "scrolled": true
   },
   "outputs": [
    {
     "name": "stdout",
     "output_type": "stream",
     "text": [
      "Train on 1943 samples\n",
      "Epoch 1/25\n",
      "1943/1943 [==============================] - 20s 10ms/sample - loss: 0.0040\n",
      "Epoch 2/25\n",
      "1943/1943 [==============================] - 7s 4ms/sample - loss: 0.0015\n",
      "Epoch 3/25\n",
      "1943/1943 [==============================] - 7s 4ms/sample - loss: 0.0013\n",
      "Epoch 4/25\n",
      "1943/1943 [==============================] - 7s 3ms/sample - loss: 0.0013\n",
      "Epoch 5/25\n",
      "1943/1943 [==============================] - 7s 4ms/sample - loss: 0.0010\n",
      "Epoch 6/25\n",
      "1943/1943 [==============================] - 7s 4ms/sample - loss: 0.0011\n",
      "Epoch 7/25\n",
      "1943/1943 [==============================] - 7s 4ms/sample - loss: 0.0011\n",
      "Epoch 8/25\n",
      "1943/1943 [==============================] - 7s 3ms/sample - loss: 9.9926e-04\n",
      "Epoch 9/25\n",
      "1943/1943 [==============================] - 7s 4ms/sample - loss: 0.0011\n",
      "Epoch 10/25\n",
      "1943/1943 [==============================] - 7s 3ms/sample - loss: 0.0010\n",
      "Epoch 11/25\n",
      "1943/1943 [==============================] - 6s 3ms/sample - loss: 9.1441e-04\n",
      "Epoch 12/25\n",
      "1943/1943 [==============================] - 6s 3ms/sample - loss: 8.6256e-04\n",
      "Epoch 13/25\n",
      "1943/1943 [==============================] - 6s 3ms/sample - loss: 7.3737e-04\n",
      "Epoch 14/25\n",
      "1943/1943 [==============================] - 6s 3ms/sample - loss: 6.3806e-04\n",
      "Epoch 15/25\n",
      "1943/1943 [==============================] - 7s 3ms/sample - loss: 6.1250e-04\n",
      "Epoch 16/25\n",
      "1943/1943 [==============================] - 6s 3ms/sample - loss: 5.8349e-04\n",
      "Epoch 17/25\n",
      "1943/1943 [==============================] - 6s 3ms/sample - loss: 6.5694e-04\n",
      "Epoch 18/25\n",
      "1943/1943 [==============================] - 6s 3ms/sample - loss: 5.5827e-04\n",
      "Epoch 19/25\n",
      "1943/1943 [==============================] - 7s 3ms/sample - loss: 5.9049e-04\n",
      "Epoch 20/25\n",
      "1943/1943 [==============================] - 6s 3ms/sample - loss: 6.5430e-04\n",
      "Epoch 21/25\n",
      "1943/1943 [==============================] - 7s 4ms/sample - loss: 6.4757e-04\n",
      "Epoch 22/25\n",
      "1943/1943 [==============================] - 7s 4ms/sample - loss: 7.6116e-04\n",
      "Epoch 23/25\n",
      "1943/1943 [==============================] - 7s 3ms/sample - loss: 6.8802e-04\n",
      "Epoch 24/25\n",
      "1943/1943 [==============================] - 6s 3ms/sample - loss: 5.7830e-04\n",
      "Epoch 25/25\n",
      "1943/1943 [==============================] - 7s 3ms/sample - loss: 4.9401e-04\n"
     ]
    },
    {
     "data": {
      "text/plain": [
       "<tensorflow.python.keras.callbacks.History at 0x7ff03465a1d0>"
      ]
     },
     "execution_count": 4,
     "metadata": {},
     "output_type": "execute_result"
    }
   ],
   "source": [
    "model = Sequential()\n",
    "\n",
    "model.add(LSTM(units=50, return_sequences=True, input_shape=(x_train.shape[1],1)))\n",
    "model.add(Dropout(0.2))\n",
    "model.add(LSTM(units=50, return_sequences=True))\n",
    "model.add(Dropout(0.2))\n",
    "model.add(LSTM(units=50))\n",
    "model.add(Dropout(0.2))\n",
    "model.add(Dense(units=1))\n",
    "\n",
    "model.compile(optimizer='adam', loss='mean_squared_error')\n",
    "model.fit(x_train, y_train, epochs=25, batch_size=32)"
   ]
  },
  {
   "cell_type": "markdown",
   "id": "a3f0ddf2",
   "metadata": {},
   "source": [
    "## Testing the model"
   ]
  },
  {
   "cell_type": "code",
   "execution_count": 5,
   "id": "05b76b23",
   "metadata": {},
   "outputs": [],
   "source": [
    "test_start = dt.datetime(2020, 6, 1)\n",
    "test_end = dt.datetime.now()\n",
    "\n",
    "test_data = web.DataReader(f'{crypto_currency}-{against_currency}', 'yahoo', test_start, test_end)\n",
    "actual_prices = test_data['Close'].values\n",
    "\n",
    "total_dataset = pd.concat((data['Close'], test_data['Close']), axis=0)\n",
    "\n",
    "model_inputs = total_dataset[len(total_dataset)-len(test_data)-prediction_days:].values\n",
    "model_inputs = model_inputs.reshape(-1,1)\n",
    "model_inputs = scaler.fit_transform(model_inputs)\n",
    "\n",
    "x_test = []\n",
    "\n",
    "for x in range(prediction_days, len(model_inputs)):\n",
    "    x_test.append(model_inputs[x-prediction_days:x, 0])\n",
    "\n",
    "x_test = np.array(x_test)\n",
    "x_test = np.reshape(x_test, (x_test.shape[0], x_test.shape[1], 1))\n",
    "\n",
    "prediction_prices = model.predict(x_test)\n",
    "prediction_prices = scaler.inverse_transform(prediction_prices)"
   ]
  },
  {
   "cell_type": "markdown",
   "id": "2bce30a5",
   "metadata": {},
   "source": [
    "## Plot test data"
   ]
  },
  {
   "cell_type": "code",
   "execution_count": 6,
   "id": "8745f9bf",
   "metadata": {},
   "outputs": [
    {
     "data": {
      "image/png": "[encoded data removed]",
      "text/plain": [
       "<Figure size 864x576 with 1 Axes>"
      ]
     },
     "metadata": {
      "needs_background": "light"
     },
     "output_type": "display_data"
    }
   ],
   "source": [
    "plt.figure(figsize=(12,8))\n",
    "plt.plot(actual_prices, color=\"black\", label='Actual Prices')\n",
    "plt.plot(prediction_prices, color=\"green\", label='Predicted Prices')\n",
    "plt.title(f'{crypto_currency} price prediction')\n",
    "plt.xlabel('Time')\n",
    "plt.ylabel('Price')\n",
    "plt.legend(loc='upper left')\n",
    "plt.show()"
   ]
  },
  {
   "cell_type": "markdown",
   "id": "4bad0de7",
   "metadata": {},
   "source": [
    "## Predict next day"
   ]
  },
  {
   "cell_type": "code",
   "execution_count": 7,
   "id": "934b7a7b",
   "metadata": {},
   "outputs": [
    {
     "name": "stdout",
     "output_type": "stream",
     "text": [
      "Prediction: [[2293.0388]]\n"
     ]
    }
   ],
   "source": [
    "real_data = [model_inputs[len(model_inputs)-prediction_days:len(model_inputs)+1, 0]]\n",
    "real_data = np.array(real_data)\n",
    "real_data = np.reshape(real_data, (real_data.shape[0], real_data.shape[1], 1))\n",
    "\n",
    "prediction = model.predict(real_data)\n",
    "prediction = scaler.inverse_transform(prediction)\n",
    "print(f\"Prediction: {prediction}\")"
   ]
  },
  {
   "cell_type": "code",
   "execution_count": null,
   "id": "3c5092d4",
   "metadata": {},
   "outputs": [],
   "source": []
  }
 ],
 "metadata": {
  "kernelspec": {
   "display_name": "Python 3",
   "language": "python",
   "name": "python3"
  },
  "language_info": {
   "codemirror_mode": {
    "name": "ipython",
    "version": 3
   },
   "file_extension": ".py",
   "mimetype": "text/x-python",
   "name": "python",
   "nbconvert_exporter": "python",
   "pygments_lexer": "ipython3",
   "version": "3.7.10"
  }
 },
 "nbformat": 4,
 "nbformat_minor": 5
}
