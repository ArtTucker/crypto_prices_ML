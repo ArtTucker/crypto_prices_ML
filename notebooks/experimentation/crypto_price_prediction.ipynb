{
 "cells": [
  {
   "cell_type": "markdown",
   "id": "1c824206",
   "metadata": {},
   "source": [
    "code copied from 'Predicting Crypto Prices in Python' [https://youtu.be/GFSiL6zEZF0]"
   ]
  },
  {
   "cell_type": "markdown",
   "id": "b1df9da3",
   "metadata": {},
   "source": [
    "## import dependencies"
   ]
  },
  {
   "cell_type": "code",
   "execution_count": 1,
   "id": "fe02937a",
   "metadata": {},
   "outputs": [],
   "source": [
    "import numpy as np\n",
    "import matplotlib.pyplot as plt\n",
    "import pandas as pd\n",
    "import pandas_datareader as web\n",
    "import datetime as dt\n",
    "\n",
    "from yahoo_fin.stock_info import get_data\n",
    "\n",
    "from sklearn.preprocessing import MinMaxScaler\n",
    "from tensorflow.keras.models import Sequential\n",
    "from tensorflow.keras.layers import Dense, Dropout, LSTM"
   ]
  },
  {
   "cell_type": "markdown",
   "id": "0bd60274",
   "metadata": {},
   "source": [
    "## load data"
   ]
  },
  {
   "cell_type": "code",
   "execution_count": 2,
   "id": "802e7f37",
   "metadata": {},
   "outputs": [],
   "source": [
    "crypto_currency = 'ETH'\n",
    "against_currency = 'USD'\n",
    "\n",
    "start = dt.datetime(2018,6, 1)\n",
    "end = dt.datetime.now()\n",
    "\n",
    "data = get_data(f'{crypto_currency}-{against_currency}', start, end)"
   ]
  },
  {
   "cell_type": "code",
   "execution_count": 3,
   "id": "672d877d",
   "metadata": {
    "scrolled": true
   },
   "outputs": [
    {
     "data": {
      "text/html": [
       "<div>\n",
       "<style scoped>\n",
       "    .dataframe tbody tr th:only-of-type {\n",
       "        vertical-align: middle;\n",
       "    }\n",
       "\n",
       "    .dataframe tbody tr th {\n",
       "        vertical-align: top;\n",
       "    }\n",
       "\n",
       "    .dataframe thead th {\n",
       "        text-align: right;\n",
       "    }\n",
       "</style>\n",
       "<table border=\"1\" class=\"dataframe\">\n",
       "  <thead>\n",
       "    <tr style=\"text-align: right;\">\n",
       "      <th></th>\n",
       "      <th>High</th>\n",
       "      <th>Low</th>\n",
       "      <th>Open</th>\n",
       "      <th>Close</th>\n",
       "      <th>Volume</th>\n",
       "      <th>Adj Close</th>\n",
       "    </tr>\n",
       "    <tr>\n",
       "      <th>Date</th>\n",
       "      <th></th>\n",
       "      <th></th>\n",
       "      <th></th>\n",
       "      <th></th>\n",
       "      <th></th>\n",
       "      <th></th>\n",
       "    </tr>\n",
       "  </thead>\n",
       "  <tbody>\n",
       "    <tr>\n",
       "      <th>2018-05-31</th>\n",
       "      <td>589.093018</td>\n",
       "      <td>567.664978</td>\n",
       "      <td>578.671997</td>\n",
       "      <td>580.043030</td>\n",
       "      <td>1.945890e+09</td>\n",
       "      <td>580.043030</td>\n",
       "    </tr>\n",
       "    <tr>\n",
       "      <th>2018-06-01</th>\n",
       "      <td>597.077026</td>\n",
       "      <td>577.322021</td>\n",
       "      <td>580.429016</td>\n",
       "      <td>591.807983</td>\n",
       "      <td>1.880390e+09</td>\n",
       "      <td>591.807983</td>\n",
       "    </tr>\n",
       "    <tr>\n",
       "      <th>2018-06-02</th>\n",
       "      <td>624.513000</td>\n",
       "      <td>591.258972</td>\n",
       "      <td>591.258972</td>\n",
       "      <td>618.328979</td>\n",
       "      <td>1.832550e+09</td>\n",
       "      <td>618.328979</td>\n",
       "    </tr>\n",
       "    <tr>\n",
       "      <th>2018-06-03</th>\n",
       "      <td>623.429016</td>\n",
       "      <td>583.747009</td>\n",
       "      <td>619.437012</td>\n",
       "      <td>592.984985</td>\n",
       "      <td>1.903430e+09</td>\n",
       "      <td>592.984985</td>\n",
       "    </tr>\n",
       "    <tr>\n",
       "      <th>2018-06-04</th>\n",
       "      <td>611.330017</td>\n",
       "      <td>580.981995</td>\n",
       "      <td>593.406006</td>\n",
       "      <td>609.302979</td>\n",
       "      <td>1.844270e+09</td>\n",
       "      <td>609.302979</td>\n",
       "    </tr>\n",
       "    <tr>\n",
       "      <th>...</th>\n",
       "      <td>...</td>\n",
       "      <td>...</td>\n",
       "      <td>...</td>\n",
       "      <td>...</td>\n",
       "      <td>...</td>\n",
       "      <td>...</td>\n",
       "    </tr>\n",
       "    <tr>\n",
       "      <th>2021-06-26</th>\n",
       "      <td>1979.958130</td>\n",
       "      <td>1811.245850</td>\n",
       "      <td>1830.996948</td>\n",
       "      <td>1978.894653</td>\n",
       "      <td>1.988547e+10</td>\n",
       "      <td>1978.894653</td>\n",
       "    </tr>\n",
       "    <tr>\n",
       "      <th>2021-06-27</th>\n",
       "      <td>2139.805420</td>\n",
       "      <td>1963.615479</td>\n",
       "      <td>1981.386475</td>\n",
       "      <td>2079.657471</td>\n",
       "      <td>2.551460e+10</td>\n",
       "      <td>2079.657471</td>\n",
       "    </tr>\n",
       "    <tr>\n",
       "      <th>2021-06-28</th>\n",
       "      <td>2242.238770</td>\n",
       "      <td>2076.240234</td>\n",
       "      <td>2083.448730</td>\n",
       "      <td>2160.768311</td>\n",
       "      <td>2.481512e+10</td>\n",
       "      <td>2160.768311</td>\n",
       "    </tr>\n",
       "    <tr>\n",
       "      <th>2021-06-29</th>\n",
       "      <td>2282.989014</td>\n",
       "      <td>2090.760742</td>\n",
       "      <td>2164.216309</td>\n",
       "      <td>2274.547607</td>\n",
       "      <td>2.582806e+10</td>\n",
       "      <td>2274.547607</td>\n",
       "    </tr>\n",
       "    <tr>\n",
       "      <th>2021-07-01</th>\n",
       "      <td>2265.411133</td>\n",
       "      <td>2111.814209</td>\n",
       "      <td>2265.371582</td>\n",
       "      <td>2116.073486</td>\n",
       "      <td>2.889795e+10</td>\n",
       "      <td>2116.073486</td>\n",
       "    </tr>\n",
       "  </tbody>\n",
       "</table>\n",
       "<p>1123 rows × 6 columns</p>\n",
       "</div>"
      ],
      "text/plain": [
       "                   High          Low         Open        Close        Volume  \\\n",
       "Date                                                                           \n",
       "2018-05-31   589.093018   567.664978   578.671997   580.043030  1.945890e+09   \n",
       "2018-06-01   597.077026   577.322021   580.429016   591.807983  1.880390e+09   \n",
       "2018-06-02   624.513000   591.258972   591.258972   618.328979  1.832550e+09   \n",
       "2018-06-03   623.429016   583.747009   619.437012   592.984985  1.903430e+09   \n",
       "2018-06-04   611.330017   580.981995   593.406006   609.302979  1.844270e+09   \n",
       "...                 ...          ...          ...          ...           ...   \n",
       "2021-06-26  1979.958130  1811.245850  1830.996948  1978.894653  1.988547e+10   \n",
       "2021-06-27  2139.805420  1963.615479  1981.386475  2079.657471  2.551460e+10   \n",
       "2021-06-28  2242.238770  2076.240234  2083.448730  2160.768311  2.481512e+10   \n",
       "2021-06-29  2282.989014  2090.760742  2164.216309  2274.547607  2.582806e+10   \n",
       "2021-07-01  2265.411133  2111.814209  2265.371582  2116.073486  2.889795e+10   \n",
       "\n",
       "              Adj Close  \n",
       "Date                     \n",
       "2018-05-31   580.043030  \n",
       "2018-06-01   591.807983  \n",
       "2018-06-02   618.328979  \n",
       "2018-06-03   592.984985  \n",
       "2018-06-04   609.302979  \n",
       "...                 ...  \n",
       "2021-06-26  1978.894653  \n",
       "2021-06-27  2079.657471  \n",
       "2021-06-28  2160.768311  \n",
       "2021-06-29  2274.547607  \n",
       "2021-07-01  2116.073486  \n",
       "\n",
       "[1123 rows x 6 columns]"
      ]
     },
     "execution_count": 3,
     "metadata": {},
     "output_type": "execute_result"
    }
   ],
   "source": [
    "data"
   ]
  },
  {
   "cell_type": "markdown",
   "id": "6159b59e",
   "metadata": {},
   "source": [
    "## Prepare Data"
   ]
  },
  {
   "cell_type": "code",
   "execution_count": 4,
   "id": "447bd59d",
   "metadata": {},
   "outputs": [],
   "source": [
    "scaler = MinMaxScaler(feature_range=(0,1))\n",
    "scaled_data = scaler.fit_transform(data['Close'].values.reshape(-1,1))\n",
    "\n",
    "prediction_days = 60\n",
    "future_day = 30\n",
    "\n",
    "x_train, y_train = [], []\n",
    "\n",
    "for x in range(prediction_days, len(scaled_data)-future_day):\n",
    "    x_train.append(scaled_data[x-prediction_days:x, 0])\n",
    "    y_train.append(scaled_data[x+future_day, 0])\n",
    "    \n",
    "x_train, y_train = np.array(x_train), np.array(y_train)\n",
    "x_train = np.reshape(x_train, (x_train.shape[0], x_train.shape[1], 1))"
   ]
  },
  {
   "cell_type": "markdown",
   "id": "111df2b0",
   "metadata": {},
   "source": [
    "## Create Neural Network"
   ]
  },
  {
   "cell_type": "code",
   "execution_count": 5,
   "id": "c882639e",
   "metadata": {
    "scrolled": true
   },
   "outputs": [
    {
     "name": "stdout",
     "output_type": "stream",
     "text": [
      "Epoch 1/25\n",
      "33/33 [==============================] - 14s 106ms/step - loss: 0.0180\n",
      "Epoch 2/25\n",
      "33/33 [==============================] - 3s 104ms/step - loss: 0.0044\n",
      "Epoch 3/25\n",
      "33/33 [==============================] - 3s 105ms/step - loss: 0.0056\n",
      "Epoch 4/25\n",
      "33/33 [==============================] - 3s 87ms/step - loss: 0.0050\n",
      "Epoch 5/25\n",
      "33/33 [==============================] - 3s 84ms/step - loss: 0.0044\n",
      "Epoch 6/25\n",
      "33/33 [==============================] - 3s 93ms/step - loss: 0.0042\n",
      "Epoch 7/25\n",
      "33/33 [==============================] - 3s 90ms/step - loss: 0.0038\n",
      "Epoch 8/25\n",
      "33/33 [==============================] - 3s 78ms/step - loss: 0.0061\n",
      "Epoch 9/25\n",
      "33/33 [==============================] - 2s 69ms/step - loss: 0.0040\n",
      "Epoch 10/25\n",
      "33/33 [==============================] - 2s 59ms/step - loss: 0.0044\n",
      "Epoch 11/25\n",
      "33/33 [==============================] - 2s 69ms/step - loss: 0.0032\n",
      "Epoch 12/25\n",
      "33/33 [==============================] - 2s 66ms/step - loss: 0.0032\n",
      "Epoch 13/25\n",
      "33/33 [==============================] - 2s 60ms/step - loss: 0.0039\n",
      "Epoch 14/25\n",
      "33/33 [==============================] - 2s 57ms/step - loss: 0.0053\n",
      "Epoch 15/25\n",
      "33/33 [==============================] - 2s 57ms/step - loss: 0.0038\n",
      "Epoch 16/25\n",
      "33/33 [==============================] - 2s 69ms/step - loss: 0.0039\n",
      "Epoch 17/25\n",
      "33/33 [==============================] - 3s 86ms/step - loss: 0.0035\n",
      "Epoch 18/25\n",
      "33/33 [==============================] - 3s 79ms/step - loss: 0.0036\n",
      "Epoch 19/25\n",
      "33/33 [==============================] - 3s 86ms/step - loss: 0.0034\n",
      "Epoch 20/25\n",
      "33/33 [==============================] - 3s 87ms/step - loss: 0.0033\n",
      "Epoch 21/25\n",
      "33/33 [==============================] - 2s 72ms/step - loss: 0.0041\n",
      "Epoch 22/25\n",
      "33/33 [==============================] - 2s 75ms/step - loss: 0.0031\n",
      "Epoch 23/25\n",
      "33/33 [==============================] - 3s 77ms/step - loss: 0.0041\n",
      "Epoch 24/25\n",
      "33/33 [==============================] - 3s 87ms/step - loss: 0.0029\n",
      "Epoch 25/25\n",
      "33/33 [==============================] - 3s 80ms/step - loss: 0.0030\n"
     ]
    },
    {
     "data": {
      "text/plain": [
       "<tensorflow.python.keras.callbacks.History at 0x7ff074702070>"
      ]
     },
     "execution_count": 5,
     "metadata": {},
     "output_type": "execute_result"
    }
   ],
   "source": [
    "model = Sequential()\n",
    "\n",
    "model.add(LSTM(units=50, return_sequences=True, input_shape=(x_train.shape[1],1)))\n",
    "model.add(Dropout(0.2))\n",
    "model.add(LSTM(units=50, return_sequences=True))\n",
    "model.add(Dropout(0.2))\n",
    "model.add(LSTM(units=50))\n",
    "model.add(Dropout(0.2))\n",
    "model.add(Dense(units=1))\n",
    "\n",
    "model.compile(optimizer='adam', loss='mean_squared_error')\n",
    "model.fit(x_train, y_train, epochs=25, batch_size=32)"
   ]
  },
  {
   "cell_type": "markdown",
   "id": "3034e8b2",
   "metadata": {},
   "source": [
    "## Testing the model"
   ]
  },
  {
   "cell_type": "code",
   "execution_count": 6,
   "id": "ec5b5d21",
   "metadata": {},
   "outputs": [],
   "source": [
    "test_start = dt.datetime(2020, 6, 1)\n",
    "test_end = dt.datetime.now()\n",
    "\n",
    "test_data = web.DataReader(f'{crypto_currency}-{against_currency}', 'yahoo', test_start, test_end)\n",
    "actual_prices = test_data['Close'].values\n",
    "\n",
    "total_dataset = pd.concat((data['Close'], test_data['Close']), axis=0)\n",
    "\n",
    "model_inputs = total_dataset[len(total_dataset)-len(test_data)-prediction_days:].values\n",
    "model_inputs = model_inputs.reshape(-1,1)\n",
    "model_inputs = scaler.fit_transform(model_inputs)"
   ]
  },
  {
   "cell_type": "code",
   "execution_count": 7,
   "id": "5f3f94ca",
   "metadata": {},
   "outputs": [],
   "source": [
    "x_test = []\n",
    "\n",
    "for x in range(prediction_days, len(model_inputs)):\n",
    "    x_test.append(model_inputs[x-prediction_days:x, 0])\n",
    "\n",
    "x_test = np.array(x_test)\n",
    "x_test = np.reshape(x_test, (x_test.shape[0], x_test.shape[1], 1))\n",
    "\n",
    "prediction_prices = model.predict(x_test)\n",
    "prediction_prices = scaler.inverse_transform(prediction_prices)"
   ]
  },
  {
   "cell_type": "markdown",
   "id": "65639456",
   "metadata": {},
   "source": [
    "## Plot test data"
   ]
  },
  {
   "cell_type": "code",
   "execution_count": 8,
   "id": "6ffff043",
   "metadata": {},
   "outputs": [
    {
     "data": {
      "image/png": "[encoded data removed]",
      "text/plain": [
       "<Figure size 864x576 with 1 Axes>"
      ]
     },
     "metadata": {
      "needs_background": "light"
     },
     "output_type": "display_data"
    }
   ],
   "source": [
    "plt.figure(figsize=(12,8))\n",
    "plt.plot(actual_prices, color=\"black\", label='Actual Prices')\n",
    "plt.plot(prediction_prices, color=\"green\", label='Predicted Prices 30 days out')\n",
    "plt.title(f'{crypto_currency} price prediction')\n",
    "plt.xlabel('Time')\n",
    "plt.ylabel('Price')\n",
    "plt.legend(loc='upper left')\n",
    "plt.show()"
   ]
  },
  {
   "cell_type": "markdown",
   "id": "e789478f",
   "metadata": {},
   "source": [
    "## Predict next day"
   ]
  },
  {
   "cell_type": "code",
   "execution_count": 9,
   "id": "ebe419a2",
   "metadata": {},
   "outputs": [
    {
     "name": "stdout",
     "output_type": "stream",
     "text": [
      "Prediction: [[3011.9578]]\n"
     ]
    }
   ],
   "source": [
    "real_data = [model_inputs[len(model_inputs)-prediction_days:len(model_inputs)+1, 0]]\n",
    "real_data = np.array(real_data)\n",
    "real_data = np.reshape(real_data, (real_data.shape[0], real_data.shape[1], 1))\n",
    "\n",
    "prediction = model.predict(real_data)\n",
    "prediction = scaler.inverse_transform(prediction)\n",
    "print(f\"Prediction: {prediction}\")"
   ]
  },
  {
   "cell_type": "code",
   "execution_count": null,
   "id": "ad784811",
   "metadata": {},
   "outputs": [],
   "source": []
  }
 ],
 "metadata": {
  "kernelspec": {
   "display_name": "Python 3",
   "language": "python",
   "name": "python3"
  },
  "language_info": {
   "codemirror_mode": {
    "name": "ipython",
    "version": 3
   },
   "file_extension": ".py",
   "mimetype": "text/x-python",
   "name": "python",
   "nbconvert_exporter": "python",
   "pygments_lexer": "ipython3",
   "version": "3.7.10"
  }
 },
 "nbformat": 4,
 "nbformat_minor": 5
}
