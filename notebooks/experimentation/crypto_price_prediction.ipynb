{
 "cells": [
  {
   "cell_type": "markdown",
   "id": "1c824206",
   "metadata": {},
   "source": [
    "code copied from 'Predicting Crypto Prices in Python' [https://youtu.be/GFSiL6zEZF0]"
   ]
  },
  {
   "cell_type": "markdown",
   "id": "b1df9da3",
   "metadata": {},
   "source": [
    "## import dependencies"
   ]
  },
  {
   "cell_type": "code",
   "execution_count": 1,
   "id": "fe02937a",
   "metadata": {},
   "outputs": [],
   "source": [
    "import numpy as np\n",
    "import matplotlib.pyplot as plt\n",
    "import pandas as pd\n",
    "import pandas_datareader as web\n",
    "import datetime as dt\n",
    "\n",
    "from yahoo_fin.stock_info import get_data\n",
    "\n",
    "from sklearn.preprocessing import MinMaxScaler\n",
    "from tensorflow.keras.models import Sequential\n",
    "from tensorflow.keras.layers import Dense, Dropout, LSTM"
   ]
  },
  {
   "cell_type": "markdown",
   "id": "0bd60274",
   "metadata": {},
   "source": [
    "## load data"
   ]
  },
  {
   "cell_type": "code",
   "execution_count": 2,
   "id": "802e7f37",
   "metadata": {},
   "outputs": [],
   "source": [
    "crypto_currency = 'ETH'\n",
    "against_currency = 'USD'\n",
    "\n",
    "start = dt.datetime(2018,6, 1)\n",
    "end = dt.datetime.now()\n",
    "\n",
    "data = get_data(f'{crypto_currency}-{against_currency}', start, end)"
   ]
  },
  {
   "cell_type": "code",
   "execution_count": 3,
   "id": "672d877d",
   "metadata": {
    "scrolled": true
   },
   "outputs": [
    {
     "data": {
      "text/html": [
       "<div>\n",
       "<style scoped>\n",
       "    .dataframe tbody tr th:only-of-type {\n",
       "        vertical-align: middle;\n",
       "    }\n",
       "\n",
       "    .dataframe tbody tr th {\n",
       "        vertical-align: top;\n",
       "    }\n",
       "\n",
       "    .dataframe thead th {\n",
       "        text-align: right;\n",
       "    }\n",
       "</style>\n",
       "<table border=\"1\" class=\"dataframe\">\n",
       "  <thead>\n",
       "    <tr style=\"text-align: right;\">\n",
       "      <th></th>\n",
       "      <th>open</th>\n",
       "      <th>high</th>\n",
       "      <th>low</th>\n",
       "      <th>close</th>\n",
       "      <th>adjclose</th>\n",
       "      <th>volume</th>\n",
       "      <th>ticker</th>\n",
       "    </tr>\n",
       "  </thead>\n",
       "  <tbody>\n",
       "    <tr>\n",
       "      <th>2018-05-31</th>\n",
       "      <td>578.671997</td>\n",
       "      <td>589.093018</td>\n",
       "      <td>567.664978</td>\n",
       "      <td>580.043030</td>\n",
       "      <td>580.043030</td>\n",
       "      <td>1.945890e+09</td>\n",
       "      <td>ETH-USD</td>\n",
       "    </tr>\n",
       "    <tr>\n",
       "      <th>2018-06-01</th>\n",
       "      <td>580.429016</td>\n",
       "      <td>597.077026</td>\n",
       "      <td>577.322021</td>\n",
       "      <td>591.807983</td>\n",
       "      <td>591.807983</td>\n",
       "      <td>1.880390e+09</td>\n",
       "      <td>ETH-USD</td>\n",
       "    </tr>\n",
       "    <tr>\n",
       "      <th>2018-06-02</th>\n",
       "      <td>591.258972</td>\n",
       "      <td>624.513000</td>\n",
       "      <td>591.258972</td>\n",
       "      <td>618.328979</td>\n",
       "      <td>618.328979</td>\n",
       "      <td>1.832550e+09</td>\n",
       "      <td>ETH-USD</td>\n",
       "    </tr>\n",
       "    <tr>\n",
       "      <th>2018-06-03</th>\n",
       "      <td>619.437012</td>\n",
       "      <td>623.429016</td>\n",
       "      <td>583.747009</td>\n",
       "      <td>592.984985</td>\n",
       "      <td>592.984985</td>\n",
       "      <td>1.903430e+09</td>\n",
       "      <td>ETH-USD</td>\n",
       "    </tr>\n",
       "    <tr>\n",
       "      <th>2018-06-04</th>\n",
       "      <td>593.406006</td>\n",
       "      <td>611.330017</td>\n",
       "      <td>580.981995</td>\n",
       "      <td>609.302979</td>\n",
       "      <td>609.302979</td>\n",
       "      <td>1.844270e+09</td>\n",
       "      <td>ETH-USD</td>\n",
       "    </tr>\n",
       "    <tr>\n",
       "      <th>...</th>\n",
       "      <td>...</td>\n",
       "      <td>...</td>\n",
       "      <td>...</td>\n",
       "      <td>...</td>\n",
       "      <td>...</td>\n",
       "      <td>...</td>\n",
       "      <td>...</td>\n",
       "    </tr>\n",
       "    <tr>\n",
       "      <th>2021-08-10</th>\n",
       "      <td>3142.830322</td>\n",
       "      <td>3269.209473</td>\n",
       "      <td>3122.916504</td>\n",
       "      <td>3164.245117</td>\n",
       "      <td>3164.245117</td>\n",
       "      <td>2.672904e+10</td>\n",
       "      <td>ETH-USD</td>\n",
       "    </tr>\n",
       "    <tr>\n",
       "      <th>2021-08-11</th>\n",
       "      <td>3164.175781</td>\n",
       "      <td>3236.314697</td>\n",
       "      <td>2984.166992</td>\n",
       "      <td>3043.414307</td>\n",
       "      <td>3043.414307</td>\n",
       "      <td>2.540370e+10</td>\n",
       "      <td>ETH-USD</td>\n",
       "    </tr>\n",
       "    <tr>\n",
       "      <th>2021-08-12</th>\n",
       "      <td>3049.001221</td>\n",
       "      <td>3324.671631</td>\n",
       "      <td>3037.676025</td>\n",
       "      <td>3322.211670</td>\n",
       "      <td>3322.211670</td>\n",
       "      <td>2.386887e+10</td>\n",
       "      <td>ETH-USD</td>\n",
       "    </tr>\n",
       "    <tr>\n",
       "      <th>2021-08-13</th>\n",
       "      <td>3322.762695</td>\n",
       "      <td>3329.281006</td>\n",
       "      <td>3214.519775</td>\n",
       "      <td>3265.443359</td>\n",
       "      <td>3265.443359</td>\n",
       "      <td>1.986086e+10</td>\n",
       "      <td>ETH-USD</td>\n",
       "    </tr>\n",
       "    <tr>\n",
       "      <th>2021-08-14</th>\n",
       "      <td>NaN</td>\n",
       "      <td>NaN</td>\n",
       "      <td>NaN</td>\n",
       "      <td>NaN</td>\n",
       "      <td>NaN</td>\n",
       "      <td>NaN</td>\n",
       "      <td>ETH-USD</td>\n",
       "    </tr>\n",
       "  </tbody>\n",
       "</table>\n",
       "<p>1172 rows × 7 columns</p>\n",
       "</div>"
      ],
      "text/plain": [
       "                   open         high          low        close     adjclose  \\\n",
       "2018-05-31   578.671997   589.093018   567.664978   580.043030   580.043030   \n",
       "2018-06-01   580.429016   597.077026   577.322021   591.807983   591.807983   \n",
       "2018-06-02   591.258972   624.513000   591.258972   618.328979   618.328979   \n",
       "2018-06-03   619.437012   623.429016   583.747009   592.984985   592.984985   \n",
       "2018-06-04   593.406006   611.330017   580.981995   609.302979   609.302979   \n",
       "...                 ...          ...          ...          ...          ...   \n",
       "2021-08-10  3142.830322  3269.209473  3122.916504  3164.245117  3164.245117   \n",
       "2021-08-11  3164.175781  3236.314697  2984.166992  3043.414307  3043.414307   \n",
       "2021-08-12  3049.001221  3324.671631  3037.676025  3322.211670  3322.211670   \n",
       "2021-08-13  3322.762695  3329.281006  3214.519775  3265.443359  3265.443359   \n",
       "2021-08-14          NaN          NaN          NaN          NaN          NaN   \n",
       "\n",
       "                  volume   ticker  \n",
       "2018-05-31  1.945890e+09  ETH-USD  \n",
       "2018-06-01  1.880390e+09  ETH-USD  \n",
       "2018-06-02  1.832550e+09  ETH-USD  \n",
       "2018-06-03  1.903430e+09  ETH-USD  \n",
       "2018-06-04  1.844270e+09  ETH-USD  \n",
       "...                  ...      ...  \n",
       "2021-08-10  2.672904e+10  ETH-USD  \n",
       "2021-08-11  2.540370e+10  ETH-USD  \n",
       "2021-08-12  2.386887e+10  ETH-USD  \n",
       "2021-08-13  1.986086e+10  ETH-USD  \n",
       "2021-08-14           NaN  ETH-USD  \n",
       "\n",
       "[1172 rows x 7 columns]"
      ]
     },
     "execution_count": 3,
     "metadata": {},
     "output_type": "execute_result"
    }
   ],
   "source": [
    "data"
   ]
  },
  {
   "cell_type": "markdown",
   "id": "6159b59e",
   "metadata": {},
   "source": [
    "## Prepare Data"
   ]
  },
  {
   "cell_type": "code",
   "execution_count": 4,
   "id": "447bd59d",
   "metadata": {},
   "outputs": [],
   "source": [
    "scaler = MinMaxScaler(feature_range=(0,1))\n",
    "scaled_data = scaler.fit_transform(data['close'].values.reshape(-1,1))\n",
    "\n",
    "prediction_days = 60\n",
    "future_day = 30\n",
    "\n",
    "x_train, y_train = [], []\n",
    "\n",
    "for x in range(prediction_days, len(scaled_data)-future_day):\n",
    "    x_train.append(scaled_data[x-prediction_days:x, 0])\n",
    "    y_train.append(scaled_data[x+future_day, 0])\n",
    "    \n",
    "x_train, y_train = np.array(x_train), np.array(y_train)\n",
    "x_train = np.reshape(x_train, (x_train.shape[0], x_train.shape[1], 1))"
   ]
  },
  {
   "cell_type": "markdown",
   "id": "111df2b0",
   "metadata": {},
   "source": [
    "## Create Neural Network"
   ]
  },
  {
   "cell_type": "code",
   "execution_count": 5,
   "id": "c882639e",
   "metadata": {
    "scrolled": true
   },
   "outputs": [
    {
     "name": "stdout",
     "output_type": "stream",
     "text": [
      "Epoch 1/25\n",
      "34/34 [==============================] - 15s 101ms/step - loss: nan\n",
      "Epoch 2/25\n",
      "34/34 [==============================] - 3s 103ms/step - loss: nan\n",
      "Epoch 3/25\n",
      "34/34 [==============================] - 4s 110ms/step - loss: nan\n",
      "Epoch 4/25\n",
      "34/34 [==============================] - 4s 105ms/step - loss: nan\n",
      "Epoch 5/25\n",
      "34/34 [==============================] - 4s 115ms/step - loss: nan\n",
      "Epoch 6/25\n",
      "34/34 [==============================] - 4s 104ms/step - loss: nan\n",
      "Epoch 7/25\n",
      "34/34 [==============================] - 4s 104ms/step - loss: nan\n",
      "Epoch 8/25\n",
      "34/34 [==============================] - 4s 112ms/step - loss: nan\n",
      "Epoch 9/25\n",
      "34/34 [==============================] - 4s 111ms/step - loss: nan\n",
      "Epoch 10/25\n",
      "34/34 [==============================] - 4s 108ms/step - loss: nan\n",
      "Epoch 11/25\n",
      "34/34 [==============================] - 3s 102ms/step - loss: nan\n",
      "Epoch 12/25\n",
      "34/34 [==============================] - 4s 104ms/step - loss: nan\n",
      "Epoch 13/25\n",
      "34/34 [==============================] - 4s 106ms/step - loss: nan\n",
      "Epoch 14/25\n",
      "34/34 [==============================] - 4s 118ms/step - loss: nan\n",
      "Epoch 15/25\n",
      "34/34 [==============================] - 4s 123ms/step - loss: nan\n",
      "Epoch 16/25\n",
      "34/34 [==============================] - 4s 128ms/step - loss: nan\n",
      "Epoch 17/25\n",
      "34/34 [==============================] - 4s 126ms/step - loss: nan\n",
      "Epoch 18/25\n",
      "34/34 [==============================] - 4s 130ms/step - loss: nan\n",
      "Epoch 19/25\n",
      "34/34 [==============================] - 4s 123ms/step - loss: nan\n",
      "Epoch 20/25\n",
      "34/34 [==============================] - 4s 123ms/step - loss: nan\n",
      "Epoch 21/25\n",
      "34/34 [==============================] - 4s 115ms/step - loss: nan\n",
      "Epoch 22/25\n",
      "34/34 [==============================] - 4s 125ms/step - loss: nan\n",
      "Epoch 23/25\n",
      "34/34 [==============================] - 4s 115ms/step - loss: nan\n",
      "Epoch 24/25\n",
      "34/34 [==============================] - 4s 120ms/step - loss: nan\n",
      "Epoch 25/25\n",
      "34/34 [==============================] - 4s 118ms/step - loss: nan\n"
     ]
    },
    {
     "data": {
      "text/plain": [
       "<keras.callbacks.History at 0x7f88e2ad1ed0>"
      ]
     },
     "execution_count": 5,
     "metadata": {},
     "output_type": "execute_result"
    }
   ],
   "source": [
    "model = Sequential()\n",
    "\n",
    "model.add(LSTM(units=50, return_sequences=True, input_shape=(x_train.shape[1],1)))\n",
    "model.add(Dropout(0.2))\n",
    "model.add(LSTM(units=50, return_sequences=True))\n",
    "model.add(Dropout(0.2))\n",
    "model.add(LSTM(units=50))\n",
    "model.add(Dropout(0.2))\n",
    "model.add(Dense(units=1))\n",
    "\n",
    "model.compile(optimizer='adam', loss='mean_squared_error')\n",
    "model.fit(x_train, y_train, epochs=25, batch_size=32)"
   ]
  },
  {
   "cell_type": "markdown",
   "id": "3034e8b2",
   "metadata": {},
   "source": [
    "## Testing the model"
   ]
  },
  {
   "cell_type": "code",
   "execution_count": 13,
   "id": "ec5b5d21",
   "metadata": {},
   "outputs": [],
   "source": [
    "test_start = dt.datetime(2020,6, 1)\n",
    "test_end = dt.datetime.now()\n",
    "\n",
    "test_data = get_data(f'{crypto_currency}-{against_currency}', start, end)\n",
    "actual_prices = test_data['close'].values\n",
    "\n",
    "total_dataset = pd.concat((data['close'], test_data['close']), axis=0)\n",
    "\n",
    "model_inputs = total_dataset[len(total_dataset)-len(test_data)-prediction_days:].values\n",
    "model_inputs = model_inputs.reshape(-1,1)\n",
    "model_inputs = scaler.fit_transform(model_inputs)"
   ]
  },
  {
   "cell_type": "code",
   "execution_count": 14,
   "id": "5f3f94ca",
   "metadata": {},
   "outputs": [],
   "source": [
    "x_test = []\n",
    "\n",
    "for x in range(prediction_days, len(model_inputs)):\n",
    "    x_test.append(model_inputs[x-prediction_days:x, 0])\n",
    "\n",
    "x_test = np.array(x_test)\n",
    "x_test = np.reshape(x_test, (x_test.shape[0], x_test.shape[1], 1))\n",
    "\n",
    "prediction_prices = model.predict(x_test)\n",
    "prediction_prices = scaler.inverse_transform(prediction_prices)"
   ]
  },
  {
   "cell_type": "markdown",
   "id": "65639456",
   "metadata": {},
   "source": [
    "## Plot test data"
   ]
  },
  {
   "cell_type": "code",
   "execution_count": 15,
   "id": "6ffff043",
   "metadata": {},
   "outputs": [
    {
     "data": {
      "image/png": "[encoded data removed]",
      "text/plain": [
       "<Figure size 864x576 with 1 Axes>"
      ]
     },
     "metadata": {
      "needs_background": "light"
     },
     "output_type": "display_data"
    }
   ],
   "source": [
    "plt.figure(figsize=(12,8))\n",
    "plt.plot(actual_prices, color=\"black\", label='Actual Prices')\n",
    "plt.plot(prediction_prices, color=\"green\", label='Predicted Prices 30 days out')\n",
    "plt.title(f'{crypto_currency} price prediction')\n",
    "plt.xlabel('Time')\n",
    "plt.ylabel('Price')\n",
    "plt.legend(loc='upper left')\n",
    "plt.show()"
   ]
  },
  {
   "cell_type": "markdown",
   "id": "e789478f",
   "metadata": {},
   "source": [
    "## Predict next day"
   ]
  },
  {
   "cell_type": "code",
   "execution_count": 16,
   "id": "ebe419a2",
   "metadata": {},
   "outputs": [
    {
     "name": "stdout",
     "output_type": "stream",
     "text": [
      "Prediction: [[nan]]\n"
     ]
    }
   ],
   "source": [
    "real_data = [model_inputs[len(model_inputs)-prediction_days:len(model_inputs)+1, 0]]\n",
    "real_data = np.array(real_data)\n",
    "real_data = np.reshape(real_data, (real_data.shape[0], real_data.shape[1], 1))\n",
    "\n",
    "prediction = model.predict(real_data)\n",
    "prediction = scaler.inverse_transform(prediction)\n",
    "print(f\"Prediction: {prediction}\")"
   ]
  },
  {
   "cell_type": "code",
   "execution_count": null,
   "id": "ad784811",
   "metadata": {},
   "outputs": [],
   "source": []
  }
 ],
 "metadata": {
  "kernelspec": {
   "display_name": "Python 3",
   "language": "python",
   "name": "python3"
  },
  "language_info": {
   "codemirror_mode": {
    "name": "ipython",
    "version": 3
   },
   "file_extension": ".py",
   "mimetype": "text/x-python",
   "name": "python",
   "nbconvert_exporter": "python",
   "pygments_lexer": "ipython3",
   "version": "3.7.10"
  }
 },
 "nbformat": 4,
 "nbformat_minor": 5
}
